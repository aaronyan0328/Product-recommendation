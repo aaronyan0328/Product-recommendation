{
 "cells": [
  {
   "cell_type": "code",
   "execution_count": 1,
   "metadata": {
    "colab": {
     "base_uri": "https://localhost:8080/"
    },
    "executionInfo": {
     "elapsed": 1390,
     "status": "ok",
     "timestamp": 1607527280136,
     "user": {
      "displayName": "Ruoxi Zhang",
      "photoUrl": "https://lh3.googleusercontent.com/a-/AOh14GgTFgHlZVaUQuSNcCHed_Tpkx4JgDcFCHQOVV3_=s64",
      "userId": "04538503838551540337"
     },
     "user_tz": 300
    },
    "id": "0P5ZWi-TpDyE",
    "outputId": "5982e241-610e-40c5-b0e3-5f8492a77fc9"
   },
   "outputs": [
    {
     "name": "stdout",
     "output_type": "stream",
     "text": [
      "Populating the interactive namespace from numpy and matplotlib\n"
     ]
    }
   ],
   "source": [
    "import numpy as np\n",
    "import pandas as pd\n",
    "import seaborn as sns\n",
    "import matplotlib.pyplot as plt\n",
    "from scipy import stats\n",
    "%pylab inline\n",
    "pylab.rcParams['figure.figsize'] = (10, 6)\n",
    "random.seed(123)"
   ]
  },
  {
   "cell_type": "markdown",
   "metadata": {
    "id": "kuFDWUOMpDyM"
   },
   "source": [
    "Column Name\tDescription\n",
    "\n",
    "| Name | Description |\n",
    "| --- | --- |\n",
    "| fecha_dato | The table is partitioned for this column |\n",
    "| ncodpers | Customer code |\n",
    "|ind_empleado\t| Employee index: A active, B ex employed, F filial, N not employee, P pasive |\n",
    "|pais_residencia|\tCustomer's Country residence|\n",
    "|sexo|\tCustomer's sex|\n",
    "|age|\tAge|\n",
    "|fecha_alta|\tThe date in which the customer became as the first holder of a contract in the bank|\n",
    "|ind_nuevo|\tNew customer Index. 1 if the customer registered in the last 6 months.|\n",
    "|antiguedad|\tCustomer seniority (in months)|\n",
    "|indrel|\t1 (First/Primary), 99 (Primary customer during the month but not at the end of the month)|\n",
    "|ult_fec_cli_1t|\tLast date as primary customer (if he isn't at the end of the month)|\n",
    "|indrel_1mes\t|Customer type at the beginning of the month ,1 (First/Primary customer), 2 (co-owner ),P (Potential),3 (former primary), 4(former co-owner)|\n",
    "|tiprel_1mes\t|Customer relation type at the beginning of the month, A (active), I (inactive), P (former customer),R (Potential)|\n",
    "|indresi\t|Residence index (S (Yes) or N (No) if the residence country is the same than the bank country)|\n",
    "|indext\t|Foreigner index (S (Yes) or N (No) if the customer's birth country is different than the bank country)|\n",
    "|conyuemp|\tSpouse index. 1 if the customer is spouse of an employee|\n",
    "|canal_entrada|\tchannel used by the customer to join|\n",
    "|indfall|\tDeceased index. N/S|\n",
    "|tipodom|\tAddres type. 1, primary address|\n",
    "|cod_prov|\tProvince code (customer's address)|\n",
    "|nomprov|\tProvince name|\n",
    "|ind_actividad_cliente|\tActivity index (1, active customer; 0, inactive customer)|\n",
    "|renta|\tGross income of the household|\n",
    "|segmento|\tsegmentation: 01 - VIP, 02 - Individuals 03 - college graduated|\n",
    "|ind_ahor_fin_ult1|\tSaving Account|\n",
    "|ind_aval_fin_ult1|\tGuarantees|\n",
    "|ind_cco_fin_ult1|\tCurrent Accounts|\n",
    "|ind_cder_fin_ult1|\tDerivada Account|\n",
    "|ind_cno_fin_ult1|\tPayroll Account|\n",
    "|ind_ctju_fin_ult1|\tJunior Account|\n",
    "|ind_ctma_fin_ult1|\tMás particular Account|\n",
    "|ind_ctop_fin_ult1|\tparticular Account|\n",
    "|ind_ctpp_fin_ult1|\tparticular Plus Account|\n",
    "|ind_deco_fin_ult1|\tShort-term deposits|\n",
    "|ind_deme_fin_ult1|\tMedium-term deposits|\n",
    "|ind_dela_fin_ult1|\tLong-term deposits|\n",
    "|ind_ecue_fin_ult1|\te-account|\n",
    "|ind_fond_fin_ult1|\tFunds|\n",
    "|ind_hip_fin_ult1|\tMortgage|\n",
    "|ind_plan_fin_ult1|\tPensions|\n",
    "|ind_pres_fin_ult1|\tLoans|\n",
    "|ind_reca_fin_ult1|\tTaxes|\n",
    "|ind_tjcr_fin_ult1|\tCredit Card|\n",
    "|ind_valo_fin_ult1|\tSecurities|\n",
    "|ind_viv_fin_ult1|\tHome Account|\n",
    "|ind_nomina_ult1|\tPayroll|\n",
    "|ind_nom_pens_ult1|\tPensions|\n",
    "|ind_recibo_ult1|\tDirect Debit|"
   ]
  },
  {
   "cell_type": "code",
   "execution_count": 2,
   "metadata": {
    "colab": {
     "base_uri": "https://localhost:8080/"
    },
    "executionInfo": {
     "elapsed": 29421,
     "status": "ok",
     "timestamp": 1607527311679,
     "user": {
      "displayName": "Ruoxi Zhang",
      "photoUrl": "https://lh3.googleusercontent.com/a-/AOh14GgTFgHlZVaUQuSNcCHed_Tpkx4JgDcFCHQOVV3_=s64",
      "userId": "04538503838551540337"
     },
     "user_tz": 300
    },
    "id": "jJSGyUwWpDyN",
    "outputId": "8a922160-3a33-4101-831a-3e9005197475"
   },
   "outputs": [
    {
     "ename": "ModuleNotFoundError",
     "evalue": "No module named 'google.colab'",
     "output_type": "error",
     "traceback": [
      "\u001b[0;31m---------------------------------------------------------------------------\u001b[0m",
      "\u001b[0;31mModuleNotFoundError\u001b[0m                       Traceback (most recent call last)",
      "\u001b[0;32m<ipython-input-2-1d3218391970>\u001b[0m in \u001b[0;36m<module>\u001b[0;34m\u001b[0m\n\u001b[0;32m----> 1\u001b[0;31m \u001b[0;32mfrom\u001b[0m \u001b[0mgoogle\u001b[0m\u001b[0;34m.\u001b[0m\u001b[0mcolab\u001b[0m \u001b[0;32mimport\u001b[0m \u001b[0mdrive\u001b[0m\u001b[0;34m\u001b[0m\u001b[0;34m\u001b[0m\u001b[0m\n\u001b[0m\u001b[1;32m      2\u001b[0m \u001b[0mdrive\u001b[0m\u001b[0;34m.\u001b[0m\u001b[0mmount\u001b[0m\u001b[0;34m(\u001b[0m\u001b[0;34m'/content/drive'\u001b[0m\u001b[0;34m)\u001b[0m\u001b[0;34m\u001b[0m\u001b[0;34m\u001b[0m\u001b[0m\n\u001b[1;32m      3\u001b[0m \u001b[0;34m\u001b[0m\u001b[0m\n\u001b[1;32m      4\u001b[0m \u001b[0mDATA_PATH\u001b[0m \u001b[0;34m=\u001b[0m \u001b[0;34m\"/content/drive/My Drive/Fall2020/Applied Machine Learning/AML Project/train_ver2.csv\"\u001b[0m\u001b[0;34m\u001b[0m\u001b[0;34m\u001b[0m\u001b[0m\n\u001b[1;32m      5\u001b[0m \u001b[0;34m\u001b[0m\u001b[0m\n",
      "\u001b[0;31mModuleNotFoundError\u001b[0m: No module named 'google.colab'"
     ]
    }
   ],
   "source": [
    "from google.colab import drive\n",
    "drive.mount('/content/drive')\n",
    "\n",
    "DATA_PATH = \"/content/drive/My Drive/Fall2020/Applied Machine Learning/AML Project/train_ver2.csv\"\n",
    "\n",
    "df_original = pd.read_csv(DATA_PATH,dtype={\"sexo\":str, \"ind_nuevo\":str,\"ult_fec_cli_1t\":str,\"indext\":str}, nrows=7000000)\n",
    "# unique_id = pd.Series(df_original[\"ncodpers\"].unique()).sample(n=12000)\n",
    "# df_original = df_original[df_original.ncodpers.isin(unique_id)]"
   ]
  },
  {
   "cell_type": "code",
   "execution_count": null,
   "metadata": {
    "colab": {
     "base_uri": "https://localhost:8080/",
     "height": 309
    },
    "executionInfo": {
     "elapsed": 27900,
     "status": "ok",
     "timestamp": 1607527312474,
     "user": {
      "displayName": "Ruoxi Zhang",
      "photoUrl": "https://lh3.googleusercontent.com/a-/AOh14GgTFgHlZVaUQuSNcCHed_Tpkx4JgDcFCHQOVV3_=s64",
      "userId": "04538503838551540337"
     },
     "user_tz": 300
    },
    "id": "J3WFFXv9pDyN",
    "outputId": "eecc7365-d2c9-4bbd-d8db-9a9254390cc7"
   },
   "outputs": [
    {
     "data": {
      "text/html": [
       "<div>\n",
       "<style scoped>\n",
       "    .dataframe tbody tr th:only-of-type {\n",
       "        vertical-align: middle;\n",
       "    }\n",
       "\n",
       "    .dataframe tbody tr th {\n",
       "        vertical-align: top;\n",
       "    }\n",
       "\n",
       "    .dataframe thead th {\n",
       "        text-align: right;\n",
       "    }\n",
       "</style>\n",
       "<table border=\"1\" class=\"dataframe\">\n",
       "  <thead>\n",
       "    <tr style=\"text-align: right;\">\n",
       "      <th></th>\n",
       "      <th>fecha_dato</th>\n",
       "      <th>ncodpers</th>\n",
       "      <th>ind_empleado</th>\n",
       "      <th>pais_residencia</th>\n",
       "      <th>sexo</th>\n",
       "      <th>age</th>\n",
       "      <th>fecha_alta</th>\n",
       "      <th>ind_nuevo</th>\n",
       "      <th>antiguedad</th>\n",
       "      <th>indrel</th>\n",
       "      <th>ult_fec_cli_1t</th>\n",
       "      <th>indrel_1mes</th>\n",
       "      <th>tiprel_1mes</th>\n",
       "      <th>indresi</th>\n",
       "      <th>indext</th>\n",
       "      <th>conyuemp</th>\n",
       "      <th>canal_entrada</th>\n",
       "      <th>indfall</th>\n",
       "      <th>tipodom</th>\n",
       "      <th>cod_prov</th>\n",
       "      <th>nomprov</th>\n",
       "      <th>ind_actividad_cliente</th>\n",
       "      <th>renta</th>\n",
       "      <th>segmento</th>\n",
       "      <th>ind_ahor_fin_ult1</th>\n",
       "      <th>ind_aval_fin_ult1</th>\n",
       "      <th>ind_cco_fin_ult1</th>\n",
       "      <th>ind_cder_fin_ult1</th>\n",
       "      <th>ind_cno_fin_ult1</th>\n",
       "      <th>ind_ctju_fin_ult1</th>\n",
       "      <th>ind_ctma_fin_ult1</th>\n",
       "      <th>ind_ctop_fin_ult1</th>\n",
       "      <th>ind_ctpp_fin_ult1</th>\n",
       "      <th>ind_deco_fin_ult1</th>\n",
       "      <th>ind_deme_fin_ult1</th>\n",
       "      <th>ind_dela_fin_ult1</th>\n",
       "      <th>ind_ecue_fin_ult1</th>\n",
       "      <th>ind_fond_fin_ult1</th>\n",
       "      <th>ind_hip_fin_ult1</th>\n",
       "      <th>ind_plan_fin_ult1</th>\n",
       "      <th>ind_pres_fin_ult1</th>\n",
       "      <th>ind_reca_fin_ult1</th>\n",
       "      <th>ind_tjcr_fin_ult1</th>\n",
       "      <th>ind_valo_fin_ult1</th>\n",
       "      <th>ind_viv_fin_ult1</th>\n",
       "      <th>ind_nomina_ult1</th>\n",
       "      <th>ind_nom_pens_ult1</th>\n",
       "      <th>ind_recibo_ult1</th>\n",
       "    </tr>\n",
       "  </thead>\n",
       "  <tbody>\n",
       "    <tr>\n",
       "      <th>0</th>\n",
       "      <td>2015-01-28</td>\n",
       "      <td>1375586</td>\n",
       "      <td>N</td>\n",
       "      <td>ES</td>\n",
       "      <td>H</td>\n",
       "      <td>35</td>\n",
       "      <td>2015-01-12</td>\n",
       "      <td>0</td>\n",
       "      <td>6</td>\n",
       "      <td>1.0</td>\n",
       "      <td>NaN</td>\n",
       "      <td>1</td>\n",
       "      <td>A</td>\n",
       "      <td>S</td>\n",
       "      <td>N</td>\n",
       "      <td>NaN</td>\n",
       "      <td>KHL</td>\n",
       "      <td>N</td>\n",
       "      <td>1.0</td>\n",
       "      <td>29.0</td>\n",
       "      <td>MALAGA</td>\n",
       "      <td>1.0</td>\n",
       "      <td>87218.10</td>\n",
       "      <td>02 - PARTICULARES</td>\n",
       "      <td>0</td>\n",
       "      <td>0</td>\n",
       "      <td>1</td>\n",
       "      <td>0</td>\n",
       "      <td>0</td>\n",
       "      <td>0</td>\n",
       "      <td>0</td>\n",
       "      <td>0</td>\n",
       "      <td>0</td>\n",
       "      <td>0</td>\n",
       "      <td>0</td>\n",
       "      <td>0</td>\n",
       "      <td>0</td>\n",
       "      <td>0</td>\n",
       "      <td>0</td>\n",
       "      <td>0</td>\n",
       "      <td>0</td>\n",
       "      <td>0</td>\n",
       "      <td>0</td>\n",
       "      <td>0</td>\n",
       "      <td>0</td>\n",
       "      <td>0.0</td>\n",
       "      <td>0.0</td>\n",
       "      <td>0</td>\n",
       "    </tr>\n",
       "    <tr>\n",
       "      <th>1</th>\n",
       "      <td>2015-01-28</td>\n",
       "      <td>1050611</td>\n",
       "      <td>N</td>\n",
       "      <td>ES</td>\n",
       "      <td>V</td>\n",
       "      <td>23</td>\n",
       "      <td>2012-08-10</td>\n",
       "      <td>0</td>\n",
       "      <td>35</td>\n",
       "      <td>1.0</td>\n",
       "      <td>NaN</td>\n",
       "      <td>1</td>\n",
       "      <td>I</td>\n",
       "      <td>S</td>\n",
       "      <td>S</td>\n",
       "      <td>NaN</td>\n",
       "      <td>KHE</td>\n",
       "      <td>N</td>\n",
       "      <td>1.0</td>\n",
       "      <td>13.0</td>\n",
       "      <td>CIUDAD REAL</td>\n",
       "      <td>0.0</td>\n",
       "      <td>35548.74</td>\n",
       "      <td>03 - UNIVERSITARIO</td>\n",
       "      <td>0</td>\n",
       "      <td>0</td>\n",
       "      <td>1</td>\n",
       "      <td>0</td>\n",
       "      <td>0</td>\n",
       "      <td>0</td>\n",
       "      <td>0</td>\n",
       "      <td>0</td>\n",
       "      <td>0</td>\n",
       "      <td>0</td>\n",
       "      <td>0</td>\n",
       "      <td>0</td>\n",
       "      <td>0</td>\n",
       "      <td>0</td>\n",
       "      <td>0</td>\n",
       "      <td>0</td>\n",
       "      <td>0</td>\n",
       "      <td>0</td>\n",
       "      <td>0</td>\n",
       "      <td>0</td>\n",
       "      <td>0</td>\n",
       "      <td>0.0</td>\n",
       "      <td>0.0</td>\n",
       "      <td>0</td>\n",
       "    </tr>\n",
       "    <tr>\n",
       "      <th>2</th>\n",
       "      <td>2015-01-28</td>\n",
       "      <td>1050612</td>\n",
       "      <td>N</td>\n",
       "      <td>ES</td>\n",
       "      <td>V</td>\n",
       "      <td>23</td>\n",
       "      <td>2012-08-10</td>\n",
       "      <td>0</td>\n",
       "      <td>35</td>\n",
       "      <td>1.0</td>\n",
       "      <td>NaN</td>\n",
       "      <td>1</td>\n",
       "      <td>I</td>\n",
       "      <td>S</td>\n",
       "      <td>N</td>\n",
       "      <td>NaN</td>\n",
       "      <td>KHE</td>\n",
       "      <td>N</td>\n",
       "      <td>1.0</td>\n",
       "      <td>13.0</td>\n",
       "      <td>CIUDAD REAL</td>\n",
       "      <td>0.0</td>\n",
       "      <td>122179.11</td>\n",
       "      <td>03 - UNIVERSITARIO</td>\n",
       "      <td>0</td>\n",
       "      <td>0</td>\n",
       "      <td>1</td>\n",
       "      <td>0</td>\n",
       "      <td>0</td>\n",
       "      <td>0</td>\n",
       "      <td>0</td>\n",
       "      <td>0</td>\n",
       "      <td>0</td>\n",
       "      <td>0</td>\n",
       "      <td>0</td>\n",
       "      <td>0</td>\n",
       "      <td>0</td>\n",
       "      <td>0</td>\n",
       "      <td>0</td>\n",
       "      <td>0</td>\n",
       "      <td>0</td>\n",
       "      <td>0</td>\n",
       "      <td>0</td>\n",
       "      <td>0</td>\n",
       "      <td>0</td>\n",
       "      <td>0.0</td>\n",
       "      <td>0.0</td>\n",
       "      <td>0</td>\n",
       "    </tr>\n",
       "    <tr>\n",
       "      <th>3</th>\n",
       "      <td>2015-01-28</td>\n",
       "      <td>1050613</td>\n",
       "      <td>N</td>\n",
       "      <td>ES</td>\n",
       "      <td>H</td>\n",
       "      <td>22</td>\n",
       "      <td>2012-08-10</td>\n",
       "      <td>0</td>\n",
       "      <td>35</td>\n",
       "      <td>1.0</td>\n",
       "      <td>NaN</td>\n",
       "      <td>1</td>\n",
       "      <td>I</td>\n",
       "      <td>S</td>\n",
       "      <td>N</td>\n",
       "      <td>NaN</td>\n",
       "      <td>KHD</td>\n",
       "      <td>N</td>\n",
       "      <td>1.0</td>\n",
       "      <td>50.0</td>\n",
       "      <td>ZARAGOZA</td>\n",
       "      <td>0.0</td>\n",
       "      <td>119775.54</td>\n",
       "      <td>03 - UNIVERSITARIO</td>\n",
       "      <td>0</td>\n",
       "      <td>0</td>\n",
       "      <td>0</td>\n",
       "      <td>0</td>\n",
       "      <td>0</td>\n",
       "      <td>0</td>\n",
       "      <td>0</td>\n",
       "      <td>0</td>\n",
       "      <td>0</td>\n",
       "      <td>1</td>\n",
       "      <td>0</td>\n",
       "      <td>0</td>\n",
       "      <td>0</td>\n",
       "      <td>0</td>\n",
       "      <td>0</td>\n",
       "      <td>0</td>\n",
       "      <td>0</td>\n",
       "      <td>0</td>\n",
       "      <td>0</td>\n",
       "      <td>0</td>\n",
       "      <td>0</td>\n",
       "      <td>0.0</td>\n",
       "      <td>0.0</td>\n",
       "      <td>0</td>\n",
       "    </tr>\n",
       "    <tr>\n",
       "      <th>4</th>\n",
       "      <td>2015-01-28</td>\n",
       "      <td>1050614</td>\n",
       "      <td>N</td>\n",
       "      <td>ES</td>\n",
       "      <td>V</td>\n",
       "      <td>23</td>\n",
       "      <td>2012-08-10</td>\n",
       "      <td>0</td>\n",
       "      <td>35</td>\n",
       "      <td>1.0</td>\n",
       "      <td>NaN</td>\n",
       "      <td>1</td>\n",
       "      <td>A</td>\n",
       "      <td>S</td>\n",
       "      <td>N</td>\n",
       "      <td>NaN</td>\n",
       "      <td>KHE</td>\n",
       "      <td>N</td>\n",
       "      <td>1.0</td>\n",
       "      <td>50.0</td>\n",
       "      <td>ZARAGOZA</td>\n",
       "      <td>1.0</td>\n",
       "      <td>NaN</td>\n",
       "      <td>03 - UNIVERSITARIO</td>\n",
       "      <td>0</td>\n",
       "      <td>0</td>\n",
       "      <td>1</td>\n",
       "      <td>0</td>\n",
       "      <td>0</td>\n",
       "      <td>0</td>\n",
       "      <td>0</td>\n",
       "      <td>0</td>\n",
       "      <td>0</td>\n",
       "      <td>0</td>\n",
       "      <td>0</td>\n",
       "      <td>0</td>\n",
       "      <td>0</td>\n",
       "      <td>0</td>\n",
       "      <td>0</td>\n",
       "      <td>0</td>\n",
       "      <td>0</td>\n",
       "      <td>0</td>\n",
       "      <td>0</td>\n",
       "      <td>0</td>\n",
       "      <td>0</td>\n",
       "      <td>0.0</td>\n",
       "      <td>0.0</td>\n",
       "      <td>0</td>\n",
       "    </tr>\n",
       "  </tbody>\n",
       "</table>\n",
       "</div>"
      ],
      "text/plain": [
       "   fecha_dato  ncodpers ind_empleado pais_residencia sexo  age  fecha_alta  \\\n",
       "0  2015-01-28   1375586            N              ES    H   35  2015-01-12   \n",
       "1  2015-01-28   1050611            N              ES    V   23  2012-08-10   \n",
       "2  2015-01-28   1050612            N              ES    V   23  2012-08-10   \n",
       "3  2015-01-28   1050613            N              ES    H   22  2012-08-10   \n",
       "4  2015-01-28   1050614            N              ES    V   23  2012-08-10   \n",
       "\n",
       "  ind_nuevo antiguedad  indrel ult_fec_cli_1t indrel_1mes tiprel_1mes indresi  \\\n",
       "0         0          6     1.0            NaN           1           A       S   \n",
       "1         0         35     1.0            NaN           1           I       S   \n",
       "2         0         35     1.0            NaN           1           I       S   \n",
       "3         0         35     1.0            NaN           1           I       S   \n",
       "4         0         35     1.0            NaN           1           A       S   \n",
       "\n",
       "  indext conyuemp canal_entrada indfall  tipodom  cod_prov      nomprov  \\\n",
       "0      N      NaN           KHL       N      1.0      29.0       MALAGA   \n",
       "1      S      NaN           KHE       N      1.0      13.0  CIUDAD REAL   \n",
       "2      N      NaN           KHE       N      1.0      13.0  CIUDAD REAL   \n",
       "3      N      NaN           KHD       N      1.0      50.0     ZARAGOZA   \n",
       "4      N      NaN           KHE       N      1.0      50.0     ZARAGOZA   \n",
       "\n",
       "   ind_actividad_cliente      renta            segmento  ind_ahor_fin_ult1  \\\n",
       "0                    1.0   87218.10   02 - PARTICULARES                  0   \n",
       "1                    0.0   35548.74  03 - UNIVERSITARIO                  0   \n",
       "2                    0.0  122179.11  03 - UNIVERSITARIO                  0   \n",
       "3                    0.0  119775.54  03 - UNIVERSITARIO                  0   \n",
       "4                    1.0        NaN  03 - UNIVERSITARIO                  0   \n",
       "\n",
       "   ind_aval_fin_ult1  ind_cco_fin_ult1  ind_cder_fin_ult1  ind_cno_fin_ult1  \\\n",
       "0                  0                 1                  0                 0   \n",
       "1                  0                 1                  0                 0   \n",
       "2                  0                 1                  0                 0   \n",
       "3                  0                 0                  0                 0   \n",
       "4                  0                 1                  0                 0   \n",
       "\n",
       "   ind_ctju_fin_ult1  ind_ctma_fin_ult1  ind_ctop_fin_ult1  ind_ctpp_fin_ult1  \\\n",
       "0                  0                  0                  0                  0   \n",
       "1                  0                  0                  0                  0   \n",
       "2                  0                  0                  0                  0   \n",
       "3                  0                  0                  0                  0   \n",
       "4                  0                  0                  0                  0   \n",
       "\n",
       "   ind_deco_fin_ult1  ind_deme_fin_ult1  ind_dela_fin_ult1  ind_ecue_fin_ult1  \\\n",
       "0                  0                  0                  0                  0   \n",
       "1                  0                  0                  0                  0   \n",
       "2                  0                  0                  0                  0   \n",
       "3                  1                  0                  0                  0   \n",
       "4                  0                  0                  0                  0   \n",
       "\n",
       "   ind_fond_fin_ult1  ind_hip_fin_ult1  ind_plan_fin_ult1  ind_pres_fin_ult1  \\\n",
       "0                  0                 0                  0                  0   \n",
       "1                  0                 0                  0                  0   \n",
       "2                  0                 0                  0                  0   \n",
       "3                  0                 0                  0                  0   \n",
       "4                  0                 0                  0                  0   \n",
       "\n",
       "   ind_reca_fin_ult1  ind_tjcr_fin_ult1  ind_valo_fin_ult1  ind_viv_fin_ult1  \\\n",
       "0                  0                  0                  0                 0   \n",
       "1                  0                  0                  0                 0   \n",
       "2                  0                  0                  0                 0   \n",
       "3                  0                  0                  0                 0   \n",
       "4                  0                  0                  0                 0   \n",
       "\n",
       "   ind_nomina_ult1  ind_nom_pens_ult1  ind_recibo_ult1  \n",
       "0              0.0                0.0                0  \n",
       "1              0.0                0.0                0  \n",
       "2              0.0                0.0                0  \n",
       "3              0.0                0.0                0  \n",
       "4              0.0                0.0                0  "
      ]
     },
     "execution_count": 3,
     "metadata": {
      "tags": []
     },
     "output_type": "execute_result"
    }
   ],
   "source": [
    "df = df_original.copy()\n",
    "pd.set_option('display.max_columns', None)\n",
    "df.head()"
   ]
  },
  {
   "cell_type": "markdown",
   "metadata": {
    "id": "NAdYth_IpDyO"
   },
   "source": [
    "### Data Cleaning"
   ]
  },
  {
   "cell_type": "code",
   "execution_count": null,
   "metadata": {
    "id": "8JWJwwtOpDyO"
   },
   "outputs": [],
   "source": [
    "# Drop Unuseful Date feature\n",
    "df= df.drop([\"fecha_dato\",\"fecha_alta\",'ult_fec_cli_1t'],axis = 1)\n",
    "\n",
    "# The province name is extra because cod_prov contains the code of the province\n",
    "# Besides, the name are in spanish which have unicode issues\n",
    "df.drop([\"nomprov\"],axis=1,inplace=True)"
   ]
  },
  {
   "cell_type": "code",
   "execution_count": null,
   "metadata": {
    "colab": {
     "base_uri": "https://localhost:8080/"
    },
    "executionInfo": {
     "elapsed": 34295,
     "status": "ok",
     "timestamp": 1607527322446,
     "user": {
      "displayName": "Ruoxi Zhang",
      "photoUrl": "https://lh3.googleusercontent.com/a-/AOh14GgTFgHlZVaUQuSNcCHed_Tpkx4JgDcFCHQOVV3_=s64",
      "userId": "04538503838551540337"
     },
     "user_tz": 300
    },
    "id": "iN6hcUggpDyP",
    "outputId": "a71a0270-0154-4dba-c928-57176315944e"
   },
   "outputs": [
    {
     "data": {
      "text/plain": [
       "ncodpers                 False\n",
       "ind_empleado              True\n",
       "pais_residencia           True\n",
       "sexo                      True\n",
       "age                      False\n",
       "ind_nuevo                 True\n",
       "antiguedad               False\n",
       "indrel                    True\n",
       "indrel_1mes               True\n",
       "tiprel_1mes               True\n",
       "indresi                   True\n",
       "indext                    True\n",
       "conyuemp                  True\n",
       "canal_entrada             True\n",
       "indfall                   True\n",
       "tipodom                   True\n",
       "cod_prov                  True\n",
       "ind_actividad_cliente     True\n",
       "renta                     True\n",
       "segmento                  True\n",
       "ind_ahor_fin_ult1        False\n",
       "ind_aval_fin_ult1        False\n",
       "ind_cco_fin_ult1         False\n",
       "ind_cder_fin_ult1        False\n",
       "ind_cno_fin_ult1         False\n",
       "ind_ctju_fin_ult1        False\n",
       "ind_ctma_fin_ult1        False\n",
       "ind_ctop_fin_ult1        False\n",
       "ind_ctpp_fin_ult1        False\n",
       "ind_deco_fin_ult1        False\n",
       "ind_deme_fin_ult1        False\n",
       "ind_dela_fin_ult1        False\n",
       "ind_ecue_fin_ult1        False\n",
       "ind_fond_fin_ult1        False\n",
       "ind_hip_fin_ult1         False\n",
       "ind_plan_fin_ult1        False\n",
       "ind_pres_fin_ult1        False\n",
       "ind_reca_fin_ult1        False\n",
       "ind_tjcr_fin_ult1        False\n",
       "ind_valo_fin_ult1        False\n",
       "ind_viv_fin_ult1         False\n",
       "ind_nomina_ult1           True\n",
       "ind_nom_pens_ult1         True\n",
       "ind_recibo_ult1          False\n",
       "dtype: bool"
      ]
     },
     "execution_count": 5,
     "metadata": {
      "tags": []
     },
     "output_type": "execute_result"
    }
   ],
   "source": [
    "df.isnull().any()"
   ]
  },
  {
   "cell_type": "code",
   "execution_count": null,
   "metadata": {
    "id": "OcHjl_9dpDyQ"
   },
   "outputs": [],
   "source": [
    "# Convert datatypes\n",
    "df[\"age\"] = pd.to_numeric(df[\"age\"], errors=\"coerce\")"
   ]
  },
  {
   "cell_type": "code",
   "execution_count": null,
   "metadata": {
    "colab": {
     "base_uri": "https://localhost:8080/",
     "height": 265
    },
    "executionInfo": {
     "elapsed": 37067,
     "status": "ok",
     "timestamp": 1607527325932,
     "user": {
      "displayName": "Ruoxi Zhang",
      "photoUrl": "https://lh3.googleusercontent.com/a-/AOh14GgTFgHlZVaUQuSNcCHed_Tpkx4JgDcFCHQOVV3_=s64",
      "userId": "04538503838551540337"
     },
     "user_tz": 300
    },
    "id": "Sfp-_j2YpDyQ",
    "outputId": "22f8f6f5-de04-4b99-86a2-ba3d1226f67e"
   },
   "outputs": [
    {
     "data": {
      "image/png": "[encoded data removed]",
      "text/plain": [
       "<Figure size 432x288 with 1 Axes>"
      ]
     },
     "metadata": {
      "needs_background": "light",
      "tags": []
     },
     "output_type": "display_data"
    }
   ],
   "source": [
    "plt.hist(df[\"age\"].dropna(),bins=100)\n",
    "plt.show()"
   ]
  },
  {
   "cell_type": "code",
   "execution_count": null,
   "metadata": {
    "id": "9KF6SqWvpDyR"
   },
   "outputs": [],
   "source": [
    "# Apprantly, age close to 0 and above 100 contain errors.\n",
    "def remove_outlier(df_in, col_name):\n",
    "    q1 = df_in[col_name].quantile(0.25)\n",
    "    q3 = df_in[col_name].quantile(0.75)\n",
    "    fence_low  = q1-1.5*(q3-q1)\n",
    "    fence_high = q3+1.5*(q3-q1)\n",
    "    a = df_in['age'].loc[(df_in[col_name] < fence_low) | (df_in[col_name] > fence_high)]\n",
    "    print(a.sort_values())\n",
    "    df_out = df_in.loc[(df_in[col_name] > fence_low) & (df_in[col_name] < fence_high)]\n",
    "    return df_out"
   ]
  },
  {
   "cell_type": "code",
   "execution_count": null,
   "metadata": {
    "colab": {
     "base_uri": "https://localhost:8080/"
    },
    "executionInfo": {
     "elapsed": 38974,
     "status": "ok",
     "timestamp": 1607527328565,
     "user": {
      "displayName": "Ruoxi Zhang",
      "photoUrl": "https://lh3.googleusercontent.com/a-/AOh14GgTFgHlZVaUQuSNcCHed_Tpkx4JgDcFCHQOVV3_=s64",
      "userId": "04538503838551540337"
     },
     "user_tz": 300
    },
    "id": "G1lRpdUGpDyS",
    "outputId": "0b976f9a-ce9c-4ad8-d6d4-9c6818ab672c"
   },
   "outputs": [
    {
     "name": "stdout",
     "output_type": "stream",
     "text": [
      "5629832     90.0\n",
      "5430926     90.0\n",
      "2963149     90.0\n",
      "5430981     90.0\n",
      "2962124     90.0\n",
      "           ...  \n",
      "3988416    126.0\n",
      "6887164    163.0\n",
      "5658344    163.0\n",
      "5271688    163.0\n",
      "4099515    163.0\n",
      "Name: age, Length: 56060, dtype: float64\n"
     ]
    }
   ],
   "source": [
    "df = remove_outlier(df,'age')"
   ]
  },
  {
   "cell_type": "code",
   "execution_count": null,
   "metadata": {
    "id": "uV7WOtArpDyS"
   },
   "outputs": [],
   "source": [
    "# However still not as good because there are age close to 0, we only want those age between 15 and 80\n",
    "df = df.loc[(df['age'] > 15) & (df['age'] < 80)]"
   ]
  },
  {
   "cell_type": "code",
   "execution_count": null,
   "metadata": {
    "colab": {
     "base_uri": "https://localhost:8080/",
     "height": 352
    },
    "executionInfo": {
     "elapsed": 41164,
     "status": "ok",
     "timestamp": 1607527331653,
     "user": {
      "displayName": "Ruoxi Zhang",
      "photoUrl": "https://lh3.googleusercontent.com/a-/AOh14GgTFgHlZVaUQuSNcCHed_Tpkx4JgDcFCHQOVV3_=s64",
      "userId": "04538503838551540337"
     },
     "user_tz": 300
    },
    "id": "F6P2aoPDpDyT",
    "outputId": "5d312212-ab0f-4c58-bc2a-7568ffa48f7f"
   },
   "outputs": [
    {
     "name": "stderr",
     "output_type": "stream",
     "text": [
      "/usr/local/lib/python3.6/dist-packages/seaborn/distributions.py:2551: FutureWarning: `distplot` is a deprecated function and will be removed in a future version. Please adapt your code to use either `displot` (a figure-level function with similar flexibility) or `histplot` (an axes-level function for histograms).\n",
      "  warnings.warn(msg, FutureWarning)\n"
     ]
    },
    {
     "data": {
      "image/png": "[encoded data removed]",
      "text/plain": [
       "<Figure size 432x288 with 1 Axes>"
      ]
     },
     "metadata": {
      "needs_background": "light",
      "tags": []
     },
     "output_type": "display_data"
    }
   ],
   "source": [
    "with sns.plotting_context(\"notebook\",font_scale=1.5):\n",
    "    sns.distplot(df[\"age\"].dropna(),bins=50,kde=False,)"
   ]
  },
  {
   "cell_type": "code",
   "execution_count": null,
   "metadata": {
    "colab": {
     "base_uri": "https://localhost:8080/"
    },
    "executionInfo": {
     "elapsed": 44207,
     "status": "ok",
     "timestamp": 1607527335083,
     "user": {
      "displayName": "Ruoxi Zhang",
      "photoUrl": "https://lh3.googleusercontent.com/a-/AOh14GgTFgHlZVaUQuSNcCHed_Tpkx4JgDcFCHQOVV3_=s64",
      "userId": "04538503838551540337"
     },
     "user_tz": 300
    },
    "id": "G7r1onDwpDyT",
    "outputId": "32bf2197-e736-496a-b8f1-6aebe33d777f"
   },
   "outputs": [
    {
     "data": {
      "text/plain": [
       "ncodpers                 False\n",
       "ind_empleado             False\n",
       "pais_residencia          False\n",
       "sexo                      True\n",
       "age                      False\n",
       "ind_nuevo                False\n",
       "antiguedad               False\n",
       "indrel                   False\n",
       "indrel_1mes               True\n",
       "tiprel_1mes               True\n",
       "indresi                  False\n",
       "indext                   False\n",
       "conyuemp                  True\n",
       "canal_entrada             True\n",
       "indfall                  False\n",
       "tipodom                  False\n",
       "cod_prov                  True\n",
       "ind_actividad_cliente    False\n",
       "renta                     True\n",
       "segmento                  True\n",
       "ind_ahor_fin_ult1        False\n",
       "ind_aval_fin_ult1        False\n",
       "ind_cco_fin_ult1         False\n",
       "ind_cder_fin_ult1        False\n",
       "ind_cno_fin_ult1         False\n",
       "ind_ctju_fin_ult1        False\n",
       "ind_ctma_fin_ult1        False\n",
       "ind_ctop_fin_ult1        False\n",
       "ind_ctpp_fin_ult1        False\n",
       "ind_deco_fin_ult1        False\n",
       "ind_deme_fin_ult1        False\n",
       "ind_dela_fin_ult1        False\n",
       "ind_ecue_fin_ult1        False\n",
       "ind_fond_fin_ult1        False\n",
       "ind_hip_fin_ult1         False\n",
       "ind_plan_fin_ult1        False\n",
       "ind_pres_fin_ult1        False\n",
       "ind_reca_fin_ult1        False\n",
       "ind_tjcr_fin_ult1        False\n",
       "ind_valo_fin_ult1        False\n",
       "ind_viv_fin_ult1         False\n",
       "ind_nomina_ult1           True\n",
       "ind_nom_pens_ult1         True\n",
       "ind_recibo_ult1          False\n",
       "dtype: bool"
      ]
     },
     "execution_count": 12,
     "metadata": {
      "tags": []
     },
     "output_type": "execute_result"
    }
   ],
   "source": [
    "# It turns out that age which is not in the desired range help solve \n",
    "# the NA problem of many columns, the result is shown:\n",
    "df.isnull().any()"
   ]
  },
  {
   "cell_type": "markdown",
   "metadata": {
    "id": "gUBLdmZvpDyU"
   },
   "source": [
    "### Drop/Fill in NA values"
   ]
  },
  {
   "cell_type": "code",
   "execution_count": null,
   "metadata": {
    "colab": {
     "base_uri": "https://localhost:8080/"
    },
    "executionInfo": {
     "elapsed": 43396,
     "status": "ok",
     "timestamp": 1607527335084,
     "user": {
      "displayName": "Ruoxi Zhang",
      "photoUrl": "https://lh3.googleusercontent.com/a-/AOh14GgTFgHlZVaUQuSNcCHed_Tpkx4JgDcFCHQOVV3_=s64",
      "userId": "04538503838551540337"
     },
     "user_tz": 300
    },
    "id": "3A-l6EQvpDyU",
    "outputId": "d2cd5526-34c3-4501-e553-31a46c890660"
   },
   "outputs": [
    {
     "data": {
      "text/plain": [
       "array([29., 13., 50., 45., 24., 20., 10., 17., 49.,  8., 37.,  9., 22.,\n",
       "       31.,  5., 40., 27., 25., 28.,  3., 42., 41., 39.,  7., 47., 36.,\n",
       "       46., 44., 15., 32., 23., 16., 48., 12., 26.,  2.,  6., 30., 11.,\n",
       "        4., 19., 34., 35., 14., 21., 18., 33., 38., 52., 43.,  1., nan,\n",
       "       51.])"
      ]
     },
     "execution_count": 13,
     "metadata": {
      "tags": []
     },
     "output_type": "execute_result"
    }
   ],
   "source": [
    "# Province Code N/A\n",
    "df.cod_prov.unique()"
   ]
  },
  {
   "cell_type": "code",
   "execution_count": null,
   "metadata": {
    "colab": {
     "base_uri": "https://localhost:8080/"
    },
    "executionInfo": {
     "elapsed": 43028,
     "status": "ok",
     "timestamp": 1607527335160,
     "user": {
      "displayName": "Ruoxi Zhang",
      "photoUrl": "https://lh3.googleusercontent.com/a-/AOh14GgTFgHlZVaUQuSNcCHed_Tpkx4JgDcFCHQOVV3_=s64",
      "userId": "04538503838551540337"
     },
     "user_tz": 300
    },
    "id": "hCLIYhUQpDyV",
    "outputId": "48761b2f-144d-4435-c7c7-984b19a76b67"
   },
   "outputs": [
    {
     "data": {
      "text/plain": [
       "array([  29.,   13.,   50.,   45.,   24.,   20.,   10.,   17.,   49.,\n",
       "          8.,   37.,    9.,   22.,   31.,    5.,   40.,   27.,   25.,\n",
       "         28.,    3.,   42.,   41.,   39.,    7.,   47.,   36.,   46.,\n",
       "         44.,   15.,   32.,   23.,   16.,   48.,   12.,   26.,    2.,\n",
       "          6.,   30.,   11.,    4.,   19.,   34.,   35.,   14.,   21.,\n",
       "         18.,   33.,   38.,   52.,   43.,    1., -100.,   51.])"
      ]
     },
     "execution_count": 14,
     "metadata": {
      "tags": []
     },
     "output_type": "execute_result"
    }
   ],
   "source": [
    "df.loc[df.cod_prov.isnull(),\"cod_prov\"] = -100.\n",
    "df.cod_prov.unique()"
   ]
  },
  {
   "cell_type": "code",
   "execution_count": null,
   "metadata": {
    "colab": {
     "base_uri": "https://localhost:8080/"
    },
    "executionInfo": {
     "elapsed": 42830,
     "status": "ok",
     "timestamp": 1607527335162,
     "user": {
      "displayName": "Ruoxi Zhang",
      "photoUrl": "https://lh3.googleusercontent.com/a-/AOh14GgTFgHlZVaUQuSNcCHed_Tpkx4JgDcFCHQOVV3_=s64",
      "userId": "04538503838551540337"
     },
     "user_tz": 300
    },
    "id": "L_baXhUfpDyV",
    "outputId": "d880a57a-c197-4e4f-bfff-b7da611ae7b5"
   },
   "outputs": [
    {
     "data": {
      "text/plain": [
       "1188669"
      ]
     },
     "execution_count": 15,
     "metadata": {
      "tags": []
     },
     "output_type": "execute_result"
    }
   ],
   "source": [
    "# Renta ~ Gross Income\n",
    "df.renta.isnull().sum()"
   ]
  },
  {
   "cell_type": "code",
   "execution_count": null,
   "metadata": {
    "id": "K4m0U4LTpDyW"
   },
   "outputs": [],
   "source": [
    "# Replace NA value by province mdedian\n",
    "df['renta'] = df['renta'].fillna(df.groupby('cod_prov')['renta'].transform(lambda x: x.fillna(x.median())))"
   ]
  },
  {
   "cell_type": "code",
   "execution_count": null,
   "metadata": {
    "id": "pIzI2zlipDyW"
   },
   "outputs": [],
   "source": [
    "#In case when the whole province renta is NA, we fill them with whole median\n",
    "df.loc[df.renta.isnull(), \"renta\"] = df.renta.median(skipna = True)"
   ]
  },
  {
   "cell_type": "code",
   "execution_count": null,
   "metadata": {
    "colab": {
     "base_uri": "https://localhost:8080/"
    },
    "executionInfo": {
     "elapsed": 48277,
     "status": "ok",
     "timestamp": 1607527341240,
     "user": {
      "displayName": "Ruoxi Zhang",
      "photoUrl": "https://lh3.googleusercontent.com/a-/AOh14GgTFgHlZVaUQuSNcCHed_Tpkx4JgDcFCHQOVV3_=s64",
      "userId": "04538503838551540337"
     },
     "user_tz": 300
    },
    "id": "FJGwbyb2pDyX",
    "outputId": "28cb4f09-a13e-4189-f3a3-36a359f1ece0"
   },
   "outputs": [
    {
     "data": {
      "text/plain": [
       "ncodpers                 False\n",
       "ind_empleado             False\n",
       "pais_residencia          False\n",
       "sexo                      True\n",
       "age                      False\n",
       "ind_nuevo                False\n",
       "antiguedad               False\n",
       "indrel                   False\n",
       "indrel_1mes               True\n",
       "tiprel_1mes               True\n",
       "indresi                  False\n",
       "indext                   False\n",
       "conyuemp                  True\n",
       "canal_entrada             True\n",
       "indfall                  False\n",
       "tipodom                  False\n",
       "cod_prov                 False\n",
       "ind_actividad_cliente    False\n",
       "renta                    False\n",
       "segmento                  True\n",
       "ind_ahor_fin_ult1        False\n",
       "ind_aval_fin_ult1        False\n",
       "ind_cco_fin_ult1         False\n",
       "ind_cder_fin_ult1        False\n",
       "ind_cno_fin_ult1         False\n",
       "ind_ctju_fin_ult1        False\n",
       "ind_ctma_fin_ult1        False\n",
       "ind_ctop_fin_ult1        False\n",
       "ind_ctpp_fin_ult1        False\n",
       "ind_deco_fin_ult1        False\n",
       "ind_deme_fin_ult1        False\n",
       "ind_dela_fin_ult1        False\n",
       "ind_ecue_fin_ult1        False\n",
       "ind_fond_fin_ult1        False\n",
       "ind_hip_fin_ult1         False\n",
       "ind_plan_fin_ult1        False\n",
       "ind_pres_fin_ult1        False\n",
       "ind_reca_fin_ult1        False\n",
       "ind_tjcr_fin_ult1        False\n",
       "ind_valo_fin_ult1        False\n",
       "ind_viv_fin_ult1         False\n",
       "ind_nomina_ult1           True\n",
       "ind_nom_pens_ult1         True\n",
       "ind_recibo_ult1          False\n",
       "dtype: bool"
      ]
     },
     "execution_count": 18,
     "metadata": {
      "tags": []
     },
     "output_type": "execute_result"
    }
   ],
   "source": [
    "df.isnull().any()"
   ]
  },
  {
   "cell_type": "code",
   "execution_count": null,
   "metadata": {
    "colab": {
     "base_uri": "https://localhost:8080/"
    },
    "executionInfo": {
     "elapsed": 48403,
     "status": "ok",
     "timestamp": 1607527341698,
     "user": {
      "displayName": "Ruoxi Zhang",
      "photoUrl": "https://lh3.googleusercontent.com/a-/AOh14GgTFgHlZVaUQuSNcCHed_Tpkx4JgDcFCHQOVV3_=s64",
      "userId": "04538503838551540337"
     },
     "user_tz": 300
    },
    "id": "SYF74wuxpDyX",
    "outputId": "c68a5eb4-bb7f-40f2-f9d0-89278422a773"
   },
   "outputs": [
    {
     "data": {
      "text/plain": [
       "76663"
      ]
     },
     "execution_count": 19,
     "metadata": {
      "tags": []
     },
     "output_type": "execute_result"
    }
   ],
   "source": [
    "df.loc[df.indrel_1mes.isnull()]\n",
    "df.indrel_1mes.isnull().sum()"
   ]
  },
  {
   "cell_type": "code",
   "execution_count": null,
   "metadata": {
    "colab": {
     "base_uri": "https://localhost:8080/"
    },
    "executionInfo": {
     "elapsed": 48774,
     "status": "ok",
     "timestamp": 1607527342605,
     "user": {
      "displayName": "Ruoxi Zhang",
      "photoUrl": "https://lh3.googleusercontent.com/a-/AOh14GgTFgHlZVaUQuSNcCHed_Tpkx4JgDcFCHQOVV3_=s64",
      "userId": "04538503838551540337"
     },
     "user_tz": 300
    },
    "id": "6Gd6LfqipDyX",
    "outputId": "ac391f5f-1452-49f2-987a-49afe6a72276"
   },
   "outputs": [
    {
     "data": {
      "text/plain": [
       "array([1.0, 3.0, 2.0, nan, '1.0', '1', '3', '3.0', '4.0', 'P', '4', '2.0',\n",
       "       4.0, '2'], dtype=object)"
      ]
     },
     "execution_count": 20,
     "metadata": {
      "tags": []
     },
     "output_type": "execute_result"
    }
   ],
   "source": [
    "# Deal with boolean indicator of features\n",
    "# indrel_1mes\n",
    "df.indrel_1mes.unique()"
   ]
  },
  {
   "cell_type": "code",
   "execution_count": null,
   "metadata": {
    "colab": {
     "base_uri": "https://localhost:8080/",
     "height": 456
    },
    "executionInfo": {
     "elapsed": 48414,
     "status": "ok",
     "timestamp": 1607527342739,
     "user": {
      "displayName": "Ruoxi Zhang",
      "photoUrl": "https://lh3.googleusercontent.com/a-/AOh14GgTFgHlZVaUQuSNcCHed_Tpkx4JgDcFCHQOVV3_=s64",
      "userId": "04538503838551540337"
     },
     "user_tz": 300
    },
    "id": "53NL0LTQpDyY",
    "outputId": "6802e20d-fc2e-4899-92f2-697f942a9ca0"
   },
   "outputs": [
    {
     "data": {
      "text/html": [
       "<div>\n",
       "<style scoped>\n",
       "    .dataframe tbody tr th:only-of-type {\n",
       "        vertical-align: middle;\n",
       "    }\n",
       "\n",
       "    .dataframe tbody tr th {\n",
       "        vertical-align: top;\n",
       "    }\n",
       "\n",
       "    .dataframe thead th {\n",
       "        text-align: right;\n",
       "    }\n",
       "</style>\n",
       "<table border=\"1\" class=\"dataframe\">\n",
       "  <thead>\n",
       "    <tr style=\"text-align: right;\">\n",
       "      <th></th>\n",
       "      <th>ncodpers</th>\n",
       "      <th>ind_empleado</th>\n",
       "      <th>pais_residencia</th>\n",
       "      <th>sexo</th>\n",
       "      <th>age</th>\n",
       "      <th>ind_nuevo</th>\n",
       "      <th>antiguedad</th>\n",
       "      <th>indrel</th>\n",
       "      <th>indrel_1mes</th>\n",
       "      <th>tiprel_1mes</th>\n",
       "      <th>indresi</th>\n",
       "      <th>indext</th>\n",
       "      <th>conyuemp</th>\n",
       "      <th>canal_entrada</th>\n",
       "      <th>indfall</th>\n",
       "      <th>tipodom</th>\n",
       "      <th>cod_prov</th>\n",
       "      <th>ind_actividad_cliente</th>\n",
       "      <th>renta</th>\n",
       "      <th>segmento</th>\n",
       "      <th>ind_ahor_fin_ult1</th>\n",
       "      <th>ind_aval_fin_ult1</th>\n",
       "      <th>ind_cco_fin_ult1</th>\n",
       "      <th>ind_cder_fin_ult1</th>\n",
       "      <th>ind_cno_fin_ult1</th>\n",
       "      <th>ind_ctju_fin_ult1</th>\n",
       "      <th>ind_ctma_fin_ult1</th>\n",
       "      <th>ind_ctop_fin_ult1</th>\n",
       "      <th>ind_ctpp_fin_ult1</th>\n",
       "      <th>ind_deco_fin_ult1</th>\n",
       "      <th>ind_deme_fin_ult1</th>\n",
       "      <th>ind_dela_fin_ult1</th>\n",
       "      <th>ind_ecue_fin_ult1</th>\n",
       "      <th>ind_fond_fin_ult1</th>\n",
       "      <th>ind_hip_fin_ult1</th>\n",
       "      <th>ind_plan_fin_ult1</th>\n",
       "      <th>ind_pres_fin_ult1</th>\n",
       "      <th>ind_reca_fin_ult1</th>\n",
       "      <th>ind_tjcr_fin_ult1</th>\n",
       "      <th>ind_valo_fin_ult1</th>\n",
       "      <th>ind_viv_fin_ult1</th>\n",
       "      <th>ind_nomina_ult1</th>\n",
       "      <th>ind_nom_pens_ult1</th>\n",
       "      <th>ind_recibo_ult1</th>\n",
       "    </tr>\n",
       "  </thead>\n",
       "  <tbody>\n",
       "    <tr>\n",
       "      <th>3781457</th>\n",
       "      <td>631189</td>\n",
       "      <td>N</td>\n",
       "      <td>ES</td>\n",
       "      <td>V</td>\n",
       "      <td>42.0</td>\n",
       "      <td>1</td>\n",
       "      <td>0</td>\n",
       "      <td>1.0</td>\n",
       "      <td>NaN</td>\n",
       "      <td>NaN</td>\n",
       "      <td>S</td>\n",
       "      <td>N</td>\n",
       "      <td>NaN</td>\n",
       "      <td>NaN</td>\n",
       "      <td>N</td>\n",
       "      <td>1.0</td>\n",
       "      <td>28.0</td>\n",
       "      <td>0.0</td>\n",
       "      <td>105597.36</td>\n",
       "      <td>NaN</td>\n",
       "      <td>0</td>\n",
       "      <td>0</td>\n",
       "      <td>1</td>\n",
       "      <td>0</td>\n",
       "      <td>0</td>\n",
       "      <td>0</td>\n",
       "      <td>0</td>\n",
       "      <td>0</td>\n",
       "      <td>0</td>\n",
       "      <td>0</td>\n",
       "      <td>0</td>\n",
       "      <td>0</td>\n",
       "      <td>0</td>\n",
       "      <td>0</td>\n",
       "      <td>0</td>\n",
       "      <td>0</td>\n",
       "      <td>0</td>\n",
       "      <td>0</td>\n",
       "      <td>0</td>\n",
       "      <td>0</td>\n",
       "      <td>0</td>\n",
       "      <td>0.0</td>\n",
       "      <td>0.0</td>\n",
       "      <td>0</td>\n",
       "    </tr>\n",
       "    <tr>\n",
       "      <th>3865981</th>\n",
       "      <td>565364</td>\n",
       "      <td>N</td>\n",
       "      <td>ES</td>\n",
       "      <td>H</td>\n",
       "      <td>48.0</td>\n",
       "      <td>1</td>\n",
       "      <td>0</td>\n",
       "      <td>1.0</td>\n",
       "      <td>NaN</td>\n",
       "      <td>NaN</td>\n",
       "      <td>S</td>\n",
       "      <td>N</td>\n",
       "      <td>NaN</td>\n",
       "      <td>NaN</td>\n",
       "      <td>N</td>\n",
       "      <td>1.0</td>\n",
       "      <td>8.0</td>\n",
       "      <td>1.0</td>\n",
       "      <td>118791.66</td>\n",
       "      <td>NaN</td>\n",
       "      <td>0</td>\n",
       "      <td>0</td>\n",
       "      <td>1</td>\n",
       "      <td>0</td>\n",
       "      <td>0</td>\n",
       "      <td>0</td>\n",
       "      <td>0</td>\n",
       "      <td>0</td>\n",
       "      <td>0</td>\n",
       "      <td>0</td>\n",
       "      <td>0</td>\n",
       "      <td>0</td>\n",
       "      <td>0</td>\n",
       "      <td>0</td>\n",
       "      <td>0</td>\n",
       "      <td>0</td>\n",
       "      <td>0</td>\n",
       "      <td>0</td>\n",
       "      <td>0</td>\n",
       "      <td>0</td>\n",
       "      <td>0</td>\n",
       "      <td>0.0</td>\n",
       "      <td>0.0</td>\n",
       "      <td>0</td>\n",
       "    </tr>\n",
       "    <tr>\n",
       "      <th>3975350</th>\n",
       "      <td>838985</td>\n",
       "      <td>N</td>\n",
       "      <td>ES</td>\n",
       "      <td>V</td>\n",
       "      <td>49.0</td>\n",
       "      <td>1</td>\n",
       "      <td>0</td>\n",
       "      <td>1.0</td>\n",
       "      <td>NaN</td>\n",
       "      <td>NaN</td>\n",
       "      <td>S</td>\n",
       "      <td>N</td>\n",
       "      <td>NaN</td>\n",
       "      <td>NaN</td>\n",
       "      <td>N</td>\n",
       "      <td>1.0</td>\n",
       "      <td>7.0</td>\n",
       "      <td>0.0</td>\n",
       "      <td>172654.95</td>\n",
       "      <td>NaN</td>\n",
       "      <td>0</td>\n",
       "      <td>0</td>\n",
       "      <td>1</td>\n",
       "      <td>0</td>\n",
       "      <td>0</td>\n",
       "      <td>0</td>\n",
       "      <td>0</td>\n",
       "      <td>0</td>\n",
       "      <td>0</td>\n",
       "      <td>0</td>\n",
       "      <td>0</td>\n",
       "      <td>0</td>\n",
       "      <td>0</td>\n",
       "      <td>0</td>\n",
       "      <td>0</td>\n",
       "      <td>0</td>\n",
       "      <td>0</td>\n",
       "      <td>0</td>\n",
       "      <td>0</td>\n",
       "      <td>0</td>\n",
       "      <td>0</td>\n",
       "      <td>0.0</td>\n",
       "      <td>0.0</td>\n",
       "      <td>0</td>\n",
       "    </tr>\n",
       "    <tr>\n",
       "      <th>3977056</th>\n",
       "      <td>843591</td>\n",
       "      <td>N</td>\n",
       "      <td>ES</td>\n",
       "      <td>V</td>\n",
       "      <td>40.0</td>\n",
       "      <td>1</td>\n",
       "      <td>2</td>\n",
       "      <td>1.0</td>\n",
       "      <td>NaN</td>\n",
       "      <td>NaN</td>\n",
       "      <td>S</td>\n",
       "      <td>S</td>\n",
       "      <td>NaN</td>\n",
       "      <td>KHM</td>\n",
       "      <td>N</td>\n",
       "      <td>1.0</td>\n",
       "      <td>28.0</td>\n",
       "      <td>1.0</td>\n",
       "      <td>113016.54</td>\n",
       "      <td>02 - PARTICULARES</td>\n",
       "      <td>0</td>\n",
       "      <td>0</td>\n",
       "      <td>1</td>\n",
       "      <td>0</td>\n",
       "      <td>0</td>\n",
       "      <td>0</td>\n",
       "      <td>0</td>\n",
       "      <td>0</td>\n",
       "      <td>0</td>\n",
       "      <td>0</td>\n",
       "      <td>0</td>\n",
       "      <td>0</td>\n",
       "      <td>0</td>\n",
       "      <td>0</td>\n",
       "      <td>0</td>\n",
       "      <td>0</td>\n",
       "      <td>0</td>\n",
       "      <td>0</td>\n",
       "      <td>0</td>\n",
       "      <td>0</td>\n",
       "      <td>0</td>\n",
       "      <td>0.0</td>\n",
       "      <td>0.0</td>\n",
       "      <td>0</td>\n",
       "    </tr>\n",
       "    <tr>\n",
       "      <th>3979448</th>\n",
       "      <td>828469</td>\n",
       "      <td>N</td>\n",
       "      <td>ES</td>\n",
       "      <td>H</td>\n",
       "      <td>48.0</td>\n",
       "      <td>1</td>\n",
       "      <td>0</td>\n",
       "      <td>1.0</td>\n",
       "      <td>NaN</td>\n",
       "      <td>NaN</td>\n",
       "      <td>S</td>\n",
       "      <td>N</td>\n",
       "      <td>NaN</td>\n",
       "      <td>NaN</td>\n",
       "      <td>N</td>\n",
       "      <td>1.0</td>\n",
       "      <td>7.0</td>\n",
       "      <td>0.0</td>\n",
       "      <td>124206.90</td>\n",
       "      <td>NaN</td>\n",
       "      <td>0</td>\n",
       "      <td>0</td>\n",
       "      <td>0</td>\n",
       "      <td>0</td>\n",
       "      <td>0</td>\n",
       "      <td>0</td>\n",
       "      <td>0</td>\n",
       "      <td>0</td>\n",
       "      <td>0</td>\n",
       "      <td>0</td>\n",
       "      <td>0</td>\n",
       "      <td>0</td>\n",
       "      <td>0</td>\n",
       "      <td>0</td>\n",
       "      <td>0</td>\n",
       "      <td>0</td>\n",
       "      <td>0</td>\n",
       "      <td>0</td>\n",
       "      <td>0</td>\n",
       "      <td>0</td>\n",
       "      <td>0</td>\n",
       "      <td>0.0</td>\n",
       "      <td>0.0</td>\n",
       "      <td>0</td>\n",
       "    </tr>\n",
       "    <tr>\n",
       "      <th>...</th>\n",
       "      <td>...</td>\n",
       "      <td>...</td>\n",
       "      <td>...</td>\n",
       "      <td>...</td>\n",
       "      <td>...</td>\n",
       "      <td>...</td>\n",
       "      <td>...</td>\n",
       "      <td>...</td>\n",
       "      <td>...</td>\n",
       "      <td>...</td>\n",
       "      <td>...</td>\n",
       "      <td>...</td>\n",
       "      <td>...</td>\n",
       "      <td>...</td>\n",
       "      <td>...</td>\n",
       "      <td>...</td>\n",
       "      <td>...</td>\n",
       "      <td>...</td>\n",
       "      <td>...</td>\n",
       "      <td>...</td>\n",
       "      <td>...</td>\n",
       "      <td>...</td>\n",
       "      <td>...</td>\n",
       "      <td>...</td>\n",
       "      <td>...</td>\n",
       "      <td>...</td>\n",
       "      <td>...</td>\n",
       "      <td>...</td>\n",
       "      <td>...</td>\n",
       "      <td>...</td>\n",
       "      <td>...</td>\n",
       "      <td>...</td>\n",
       "      <td>...</td>\n",
       "      <td>...</td>\n",
       "      <td>...</td>\n",
       "      <td>...</td>\n",
       "      <td>...</td>\n",
       "      <td>...</td>\n",
       "      <td>...</td>\n",
       "      <td>...</td>\n",
       "      <td>...</td>\n",
       "      <td>...</td>\n",
       "      <td>...</td>\n",
       "      <td>...</td>\n",
       "    </tr>\n",
       "    <tr>\n",
       "      <th>6882237</th>\n",
       "      <td>76235</td>\n",
       "      <td>N</td>\n",
       "      <td>ES</td>\n",
       "      <td>V</td>\n",
       "      <td>48.0</td>\n",
       "      <td>1</td>\n",
       "      <td>0</td>\n",
       "      <td>1.0</td>\n",
       "      <td>NaN</td>\n",
       "      <td>NaN</td>\n",
       "      <td>S</td>\n",
       "      <td>N</td>\n",
       "      <td>NaN</td>\n",
       "      <td>NaN</td>\n",
       "      <td>N</td>\n",
       "      <td>1.0</td>\n",
       "      <td>29.0</td>\n",
       "      <td>0.0</td>\n",
       "      <td>94821.84</td>\n",
       "      <td>NaN</td>\n",
       "      <td>0</td>\n",
       "      <td>0</td>\n",
       "      <td>1</td>\n",
       "      <td>0</td>\n",
       "      <td>0</td>\n",
       "      <td>0</td>\n",
       "      <td>0</td>\n",
       "      <td>0</td>\n",
       "      <td>0</td>\n",
       "      <td>0</td>\n",
       "      <td>0</td>\n",
       "      <td>0</td>\n",
       "      <td>0</td>\n",
       "      <td>0</td>\n",
       "      <td>0</td>\n",
       "      <td>0</td>\n",
       "      <td>0</td>\n",
       "      <td>0</td>\n",
       "      <td>0</td>\n",
       "      <td>0</td>\n",
       "      <td>0</td>\n",
       "      <td>0.0</td>\n",
       "      <td>0.0</td>\n",
       "      <td>0</td>\n",
       "    </tr>\n",
       "    <tr>\n",
       "      <th>6914991</th>\n",
       "      <td>62870</td>\n",
       "      <td>N</td>\n",
       "      <td>ES</td>\n",
       "      <td>H</td>\n",
       "      <td>43.0</td>\n",
       "      <td>1</td>\n",
       "      <td>0</td>\n",
       "      <td>1.0</td>\n",
       "      <td>NaN</td>\n",
       "      <td>NaN</td>\n",
       "      <td>S</td>\n",
       "      <td>N</td>\n",
       "      <td>N</td>\n",
       "      <td>NaN</td>\n",
       "      <td>N</td>\n",
       "      <td>1.0</td>\n",
       "      <td>41.0</td>\n",
       "      <td>0.0</td>\n",
       "      <td>92356.56</td>\n",
       "      <td>NaN</td>\n",
       "      <td>0</td>\n",
       "      <td>0</td>\n",
       "      <td>0</td>\n",
       "      <td>0</td>\n",
       "      <td>0</td>\n",
       "      <td>0</td>\n",
       "      <td>0</td>\n",
       "      <td>0</td>\n",
       "      <td>0</td>\n",
       "      <td>0</td>\n",
       "      <td>0</td>\n",
       "      <td>0</td>\n",
       "      <td>0</td>\n",
       "      <td>0</td>\n",
       "      <td>0</td>\n",
       "      <td>0</td>\n",
       "      <td>0</td>\n",
       "      <td>0</td>\n",
       "      <td>0</td>\n",
       "      <td>0</td>\n",
       "      <td>0</td>\n",
       "      <td>0.0</td>\n",
       "      <td>0.0</td>\n",
       "      <td>0</td>\n",
       "    </tr>\n",
       "    <tr>\n",
       "      <th>6989732</th>\n",
       "      <td>806944</td>\n",
       "      <td>N</td>\n",
       "      <td>ES</td>\n",
       "      <td>H</td>\n",
       "      <td>31.0</td>\n",
       "      <td>1</td>\n",
       "      <td>0</td>\n",
       "      <td>1.0</td>\n",
       "      <td>NaN</td>\n",
       "      <td>NaN</td>\n",
       "      <td>S</td>\n",
       "      <td>N</td>\n",
       "      <td>NaN</td>\n",
       "      <td>NaN</td>\n",
       "      <td>N</td>\n",
       "      <td>1.0</td>\n",
       "      <td>28.0</td>\n",
       "      <td>1.0</td>\n",
       "      <td>139718.73</td>\n",
       "      <td>NaN</td>\n",
       "      <td>0</td>\n",
       "      <td>0</td>\n",
       "      <td>1</td>\n",
       "      <td>0</td>\n",
       "      <td>0</td>\n",
       "      <td>0</td>\n",
       "      <td>0</td>\n",
       "      <td>0</td>\n",
       "      <td>0</td>\n",
       "      <td>0</td>\n",
       "      <td>0</td>\n",
       "      <td>0</td>\n",
       "      <td>0</td>\n",
       "      <td>0</td>\n",
       "      <td>0</td>\n",
       "      <td>0</td>\n",
       "      <td>0</td>\n",
       "      <td>0</td>\n",
       "      <td>0</td>\n",
       "      <td>0</td>\n",
       "      <td>0</td>\n",
       "      <td>0.0</td>\n",
       "      <td>0.0</td>\n",
       "      <td>0</td>\n",
       "    </tr>\n",
       "    <tr>\n",
       "      <th>6991351</th>\n",
       "      <td>785704</td>\n",
       "      <td>N</td>\n",
       "      <td>ES</td>\n",
       "      <td>H</td>\n",
       "      <td>47.0</td>\n",
       "      <td>1</td>\n",
       "      <td>0</td>\n",
       "      <td>1.0</td>\n",
       "      <td>NaN</td>\n",
       "      <td>NaN</td>\n",
       "      <td>S</td>\n",
       "      <td>N</td>\n",
       "      <td>NaN</td>\n",
       "      <td>NaN</td>\n",
       "      <td>N</td>\n",
       "      <td>1.0</td>\n",
       "      <td>28.0</td>\n",
       "      <td>0.0</td>\n",
       "      <td>139718.73</td>\n",
       "      <td>NaN</td>\n",
       "      <td>0</td>\n",
       "      <td>0</td>\n",
       "      <td>0</td>\n",
       "      <td>0</td>\n",
       "      <td>0</td>\n",
       "      <td>0</td>\n",
       "      <td>0</td>\n",
       "      <td>0</td>\n",
       "      <td>0</td>\n",
       "      <td>0</td>\n",
       "      <td>0</td>\n",
       "      <td>0</td>\n",
       "      <td>0</td>\n",
       "      <td>0</td>\n",
       "      <td>0</td>\n",
       "      <td>0</td>\n",
       "      <td>0</td>\n",
       "      <td>0</td>\n",
       "      <td>0</td>\n",
       "      <td>0</td>\n",
       "      <td>0</td>\n",
       "      <td>0.0</td>\n",
       "      <td>0.0</td>\n",
       "      <td>0</td>\n",
       "    </tr>\n",
       "    <tr>\n",
       "      <th>6999526</th>\n",
       "      <td>835548</td>\n",
       "      <td>N</td>\n",
       "      <td>ES</td>\n",
       "      <td>V</td>\n",
       "      <td>35.0</td>\n",
       "      <td>1</td>\n",
       "      <td>0</td>\n",
       "      <td>1.0</td>\n",
       "      <td>NaN</td>\n",
       "      <td>NaN</td>\n",
       "      <td>S</td>\n",
       "      <td>N</td>\n",
       "      <td>NaN</td>\n",
       "      <td>NaN</td>\n",
       "      <td>N</td>\n",
       "      <td>1.0</td>\n",
       "      <td>29.0</td>\n",
       "      <td>1.0</td>\n",
       "      <td>94821.84</td>\n",
       "      <td>NaN</td>\n",
       "      <td>0</td>\n",
       "      <td>0</td>\n",
       "      <td>1</td>\n",
       "      <td>0</td>\n",
       "      <td>0</td>\n",
       "      <td>0</td>\n",
       "      <td>0</td>\n",
       "      <td>0</td>\n",
       "      <td>0</td>\n",
       "      <td>0</td>\n",
       "      <td>0</td>\n",
       "      <td>0</td>\n",
       "      <td>0</td>\n",
       "      <td>0</td>\n",
       "      <td>0</td>\n",
       "      <td>0</td>\n",
       "      <td>0</td>\n",
       "      <td>0</td>\n",
       "      <td>0</td>\n",
       "      <td>0</td>\n",
       "      <td>0</td>\n",
       "      <td>0.0</td>\n",
       "      <td>0.0</td>\n",
       "      <td>0</td>\n",
       "    </tr>\n",
       "  </tbody>\n",
       "</table>\n",
       "<p>76663 rows × 44 columns</p>\n",
       "</div>"
      ],
      "text/plain": [
       "         ncodpers ind_empleado pais_residencia sexo   age ind_nuevo  \\\n",
       "3781457    631189            N              ES    V  42.0         1   \n",
       "3865981    565364            N              ES    H  48.0         1   \n",
       "3975350    838985            N              ES    V  49.0         1   \n",
       "3977056    843591            N              ES    V  40.0         1   \n",
       "3979448    828469            N              ES    H  48.0         1   \n",
       "...           ...          ...             ...  ...   ...       ...   \n",
       "6882237     76235            N              ES    V  48.0         1   \n",
       "6914991     62870            N              ES    H  43.0         1   \n",
       "6989732    806944            N              ES    H  31.0         1   \n",
       "6991351    785704            N              ES    H  47.0         1   \n",
       "6999526    835548            N              ES    V  35.0         1   \n",
       "\n",
       "        antiguedad  indrel indrel_1mes tiprel_1mes indresi indext conyuemp  \\\n",
       "3781457          0     1.0         NaN         NaN       S      N      NaN   \n",
       "3865981          0     1.0         NaN         NaN       S      N      NaN   \n",
       "3975350          0     1.0         NaN         NaN       S      N      NaN   \n",
       "3977056          2     1.0         NaN         NaN       S      S      NaN   \n",
       "3979448          0     1.0         NaN         NaN       S      N      NaN   \n",
       "...            ...     ...         ...         ...     ...    ...      ...   \n",
       "6882237          0     1.0         NaN         NaN       S      N      NaN   \n",
       "6914991          0     1.0         NaN         NaN       S      N        N   \n",
       "6989732          0     1.0         NaN         NaN       S      N      NaN   \n",
       "6991351          0     1.0         NaN         NaN       S      N      NaN   \n",
       "6999526          0     1.0         NaN         NaN       S      N      NaN   \n",
       "\n",
       "        canal_entrada indfall  tipodom  cod_prov  ind_actividad_cliente  \\\n",
       "3781457           NaN       N      1.0      28.0                    0.0   \n",
       "3865981           NaN       N      1.0       8.0                    1.0   \n",
       "3975350           NaN       N      1.0       7.0                    0.0   \n",
       "3977056           KHM       N      1.0      28.0                    1.0   \n",
       "3979448           NaN       N      1.0       7.0                    0.0   \n",
       "...               ...     ...      ...       ...                    ...   \n",
       "6882237           NaN       N      1.0      29.0                    0.0   \n",
       "6914991           NaN       N      1.0      41.0                    0.0   \n",
       "6989732           NaN       N      1.0      28.0                    1.0   \n",
       "6991351           NaN       N      1.0      28.0                    0.0   \n",
       "6999526           NaN       N      1.0      29.0                    1.0   \n",
       "\n",
       "             renta           segmento  ind_ahor_fin_ult1  ind_aval_fin_ult1  \\\n",
       "3781457  105597.36                NaN                  0                  0   \n",
       "3865981  118791.66                NaN                  0                  0   \n",
       "3975350  172654.95                NaN                  0                  0   \n",
       "3977056  113016.54  02 - PARTICULARES                  0                  0   \n",
       "3979448  124206.90                NaN                  0                  0   \n",
       "...            ...                ...                ...                ...   \n",
       "6882237   94821.84                NaN                  0                  0   \n",
       "6914991   92356.56                NaN                  0                  0   \n",
       "6989732  139718.73                NaN                  0                  0   \n",
       "6991351  139718.73                NaN                  0                  0   \n",
       "6999526   94821.84                NaN                  0                  0   \n",
       "\n",
       "         ind_cco_fin_ult1  ind_cder_fin_ult1  ind_cno_fin_ult1  \\\n",
       "3781457                 1                  0                 0   \n",
       "3865981                 1                  0                 0   \n",
       "3975350                 1                  0                 0   \n",
       "3977056                 1                  0                 0   \n",
       "3979448                 0                  0                 0   \n",
       "...                   ...                ...               ...   \n",
       "6882237                 1                  0                 0   \n",
       "6914991                 0                  0                 0   \n",
       "6989732                 1                  0                 0   \n",
       "6991351                 0                  0                 0   \n",
       "6999526                 1                  0                 0   \n",
       "\n",
       "         ind_ctju_fin_ult1  ind_ctma_fin_ult1  ind_ctop_fin_ult1  \\\n",
       "3781457                  0                  0                  0   \n",
       "3865981                  0                  0                  0   \n",
       "3975350                  0                  0                  0   \n",
       "3977056                  0                  0                  0   \n",
       "3979448                  0                  0                  0   \n",
       "...                    ...                ...                ...   \n",
       "6882237                  0                  0                  0   \n",
       "6914991                  0                  0                  0   \n",
       "6989732                  0                  0                  0   \n",
       "6991351                  0                  0                  0   \n",
       "6999526                  0                  0                  0   \n",
       "\n",
       "         ind_ctpp_fin_ult1  ind_deco_fin_ult1  ind_deme_fin_ult1  \\\n",
       "3781457                  0                  0                  0   \n",
       "3865981                  0                  0                  0   \n",
       "3975350                  0                  0                  0   \n",
       "3977056                  0                  0                  0   \n",
       "3979448                  0                  0                  0   \n",
       "...                    ...                ...                ...   \n",
       "6882237                  0                  0                  0   \n",
       "6914991                  0                  0                  0   \n",
       "6989732                  0                  0                  0   \n",
       "6991351                  0                  0                  0   \n",
       "6999526                  0                  0                  0   \n",
       "\n",
       "         ind_dela_fin_ult1  ind_ecue_fin_ult1  ind_fond_fin_ult1  \\\n",
       "3781457                  0                  0                  0   \n",
       "3865981                  0                  0                  0   \n",
       "3975350                  0                  0                  0   \n",
       "3977056                  0                  0                  0   \n",
       "3979448                  0                  0                  0   \n",
       "...                    ...                ...                ...   \n",
       "6882237                  0                  0                  0   \n",
       "6914991                  0                  0                  0   \n",
       "6989732                  0                  0                  0   \n",
       "6991351                  0                  0                  0   \n",
       "6999526                  0                  0                  0   \n",
       "\n",
       "         ind_hip_fin_ult1  ind_plan_fin_ult1  ind_pres_fin_ult1  \\\n",
       "3781457                 0                  0                  0   \n",
       "3865981                 0                  0                  0   \n",
       "3975350                 0                  0                  0   \n",
       "3977056                 0                  0                  0   \n",
       "3979448                 0                  0                  0   \n",
       "...                   ...                ...                ...   \n",
       "6882237                 0                  0                  0   \n",
       "6914991                 0                  0                  0   \n",
       "6989732                 0                  0                  0   \n",
       "6991351                 0                  0                  0   \n",
       "6999526                 0                  0                  0   \n",
       "\n",
       "         ind_reca_fin_ult1  ind_tjcr_fin_ult1  ind_valo_fin_ult1  \\\n",
       "3781457                  0                  0                  0   \n",
       "3865981                  0                  0                  0   \n",
       "3975350                  0                  0                  0   \n",
       "3977056                  0                  0                  0   \n",
       "3979448                  0                  0                  0   \n",
       "...                    ...                ...                ...   \n",
       "6882237                  0                  0                  0   \n",
       "6914991                  0                  0                  0   \n",
       "6989732                  0                  0                  0   \n",
       "6991351                  0                  0                  0   \n",
       "6999526                  0                  0                  0   \n",
       "\n",
       "         ind_viv_fin_ult1  ind_nomina_ult1  ind_nom_pens_ult1  ind_recibo_ult1  \n",
       "3781457                 0              0.0                0.0                0  \n",
       "3865981                 0              0.0                0.0                0  \n",
       "3975350                 0              0.0                0.0                0  \n",
       "3977056                 0              0.0                0.0                0  \n",
       "3979448                 0              0.0                0.0                0  \n",
       "...                   ...              ...                ...              ...  \n",
       "6882237                 0              0.0                0.0                0  \n",
       "6914991                 0              0.0                0.0                0  \n",
       "6989732                 0              0.0                0.0                0  \n",
       "6991351                 0              0.0                0.0                0  \n",
       "6999526                 0              0.0                0.0                0  \n",
       "\n",
       "[76663 rows x 44 columns]"
      ]
     },
     "execution_count": 21,
     "metadata": {
      "tags": []
     },
     "output_type": "execute_result"
    }
   ],
   "source": [
    "# Take further look into indrel_1mes NA values\n",
    "df.loc[df.indrel_1mes.isnull()]"
   ]
  },
  {
   "cell_type": "code",
   "execution_count": null,
   "metadata": {
    "colab": {
     "base_uri": "https://localhost:8080/"
    },
    "executionInfo": {
     "elapsed": 48132,
     "status": "ok",
     "timestamp": 1607527342989,
     "user": {
      "displayName": "Ruoxi Zhang",
      "photoUrl": "https://lh3.googleusercontent.com/a-/AOh14GgTFgHlZVaUQuSNcCHed_Tpkx4JgDcFCHQOVV3_=s64",
      "userId": "04538503838551540337"
     },
     "user_tz": 300
    },
    "id": "o-VG9-xZpDyY",
    "outputId": "c3cb4ed0-0f91-4f80-d4cc-bbb714cf16f8"
   },
   "outputs": [
    {
     "name": "stdout",
     "output_type": "stream",
     "text": [
      "76663 76663\n"
     ]
    }
   ],
   "source": [
    "print(df.indrel_1mes.isnull().sum(), df.tiprel_1mes.isnull().sum())"
   ]
  },
  {
   "cell_type": "code",
   "execution_count": null,
   "metadata": {
    "id": "TZ8IZLTypDyY"
   },
   "outputs": [],
   "source": [
    "# Thus it is possible that entries missing indrel_1mes values also miss tiprel_1mes values\n",
    "# We decide to drop NA entries to see the result\n",
    "df.dropna(subset = ['indrel_1mes'],inplace = True)"
   ]
  },
  {
   "cell_type": "code",
   "execution_count": null,
   "metadata": {
    "colab": {
     "base_uri": "https://localhost:8080/"
    },
    "executionInfo": {
     "elapsed": 49743,
     "status": "ok",
     "timestamp": 1607527345683,
     "user": {
      "displayName": "Ruoxi Zhang",
      "photoUrl": "https://lh3.googleusercontent.com/a-/AOh14GgTFgHlZVaUQuSNcCHed_Tpkx4JgDcFCHQOVV3_=s64",
      "userId": "04538503838551540337"
     },
     "user_tz": 300
    },
    "id": "38ceMSKEpDyZ",
    "outputId": "318a7a1a-eead-43a1-9b90-dcc853abd392"
   },
   "outputs": [
    {
     "name": "stdout",
     "output_type": "stream",
     "text": [
      "0 0\n"
     ]
    }
   ],
   "source": [
    "print(df.indrel_1mes.isnull().sum(), df.tiprel_1mes.isnull().sum())"
   ]
  },
  {
   "cell_type": "code",
   "execution_count": null,
   "metadata": {
    "id": "4gqy91JspDyZ"
   },
   "outputs": [],
   "source": [
    "# Create a map of similar values onto the same one\n",
    "indrel_1mes_dict = { 1.0 : \"1\", \"1.0\" : \"1\", \"3.0\" : \"3\", 3.0 : \"3\", 2.0 : \"2\", \"2.0\" : \"2\", \"4.0\" : \"4\"}\n",
    "df.indrel_1mes = df.indrel_1mes.apply(lambda x: indrel_1mes_dict.get(x,x))\n",
    "df.indrel_1mes = df.indrel_1mes.astype(\"category\")"
   ]
  },
  {
   "cell_type": "code",
   "execution_count": null,
   "metadata": {
    "colab": {
     "base_uri": "https://localhost:8080/"
    },
    "executionInfo": {
     "elapsed": 51277,
     "status": "ok",
     "timestamp": 1607527348160,
     "user": {
      "displayName": "Ruoxi Zhang",
      "photoUrl": "https://lh3.googleusercontent.com/a-/AOh14GgTFgHlZVaUQuSNcCHed_Tpkx4JgDcFCHQOVV3_=s64",
      "userId": "04538503838551540337"
     },
     "user_tz": 300
    },
    "id": "594lyHTfpDyZ",
    "outputId": "9ea8eae7-5ef0-4be0-9c68-4326849bab91"
   },
   "outputs": [
    {
     "data": {
      "text/plain": [
       "['1', '3', '2', '4', 'P', 4]\n",
       "Categories (6, object): ['1', '3', '2', '4', 'P', 4]"
      ]
     },
     "execution_count": 26,
     "metadata": {
      "tags": []
     },
     "output_type": "execute_result"
    }
   ],
   "source": [
    "df.indrel_1mes.unique()"
   ]
  },
  {
   "cell_type": "code",
   "execution_count": null,
   "metadata": {
    "colab": {
     "base_uri": "https://localhost:8080/"
    },
    "executionInfo": {
     "elapsed": 50877,
     "status": "ok",
     "timestamp": 1607527348260,
     "user": {
      "displayName": "Ruoxi Zhang",
      "photoUrl": "https://lh3.googleusercontent.com/a-/AOh14GgTFgHlZVaUQuSNcCHed_Tpkx4JgDcFCHQOVV3_=s64",
      "userId": "04538503838551540337"
     },
     "user_tz": 300
    },
    "id": "I3fbXLIApDya",
    "outputId": "25cb748f-b541-456f-d5ce-aa2f8f4455e2"
   },
   "outputs": [
    {
     "data": {
      "text/plain": [
       "24"
      ]
     },
     "execution_count": 27,
     "metadata": {
      "tags": []
     },
     "output_type": "execute_result"
    }
   ],
   "source": [
    "# sexo\n",
    "df.sexo.isnull().sum()"
   ]
  },
  {
   "cell_type": "code",
   "execution_count": null,
   "metadata": {
    "id": "Wf0zA-mspDya"
   },
   "outputs": [],
   "source": [
    "# For sexo column, the NA number is so small so that we drop the rows. \n",
    "df.dropna(subset = ['sexo'],inplace = True)"
   ]
  },
  {
   "cell_type": "code",
   "execution_count": null,
   "metadata": {
    "colab": {
     "base_uri": "https://localhost:8080/"
    },
    "executionInfo": {
     "elapsed": 53236,
     "status": "ok",
     "timestamp": 1607527351804,
     "user": {
      "displayName": "Ruoxi Zhang",
      "photoUrl": "https://lh3.googleusercontent.com/a-/AOh14GgTFgHlZVaUQuSNcCHed_Tpkx4JgDcFCHQOVV3_=s64",
      "userId": "04538503838551540337"
     },
     "user_tz": 300
    },
    "id": "mXoG5AUjpDyb",
    "outputId": "38ac3425-5f7f-421f-8309-a90d644401b4"
   },
   "outputs": [
    {
     "name": "stdout",
     "output_type": "stream",
     "text": [
      "6640092 12582 13550 211 211\n"
     ]
    }
   ],
   "source": [
    "# Take further look into indrel_1mes NA values\n",
    "print(df.conyuemp.isnull().sum(),\n",
    "      df.canal_entrada.isnull().sum(),\n",
    "      df.segmento.isnull().sum(),\n",
    "      df.ind_nomina_ult1.isnull().sum(),\n",
    "      df.ind_nom_pens_ult1.isnull().sum())"
   ]
  },
  {
   "cell_type": "code",
   "execution_count": null,
   "metadata": {
    "colab": {
     "base_uri": "https://localhost:8080/"
    },
    "executionInfo": {
     "elapsed": 52968,
     "status": "ok",
     "timestamp": 1607527351805,
     "user": {
      "displayName": "Ruoxi Zhang",
      "photoUrl": "https://lh3.googleusercontent.com/a-/AOh14GgTFgHlZVaUQuSNcCHed_Tpkx4JgDcFCHQOVV3_=s64",
      "userId": "04538503838551540337"
     },
     "user_tz": 300
    },
    "id": "wCj5-_OUpDyb",
    "outputId": "c1f0881c-d485-4d63-aece-b45aa265639c"
   },
   "outputs": [
    {
     "data": {
      "text/plain": [
       "(6641082, 44)"
      ]
     },
     "execution_count": 30,
     "metadata": {
      "tags": []
     },
     "output_type": "execute_result"
    }
   ],
   "source": [
    "df.shape"
   ]
  },
  {
   "cell_type": "code",
   "execution_count": null,
   "metadata": {
    "id": "hgiIEAVkpDyb"
   },
   "outputs": [],
   "source": [
    "# Since we have in total 87793 rows and 87782 are NaN for conyuemp, we decide to drop the column. \n",
    "# For the rest, since the number is so small, we also decide to drop the rows. \n",
    "df.drop('conyuemp',axis = 1,inplace = True)\n",
    "df.dropna(subset = ['canal_entrada','segmento','ind_nomina_ult1','ind_nom_pens_ult1'],inplace = True)"
   ]
  },
  {
   "cell_type": "code",
   "execution_count": null,
   "metadata": {
    "colab": {
     "base_uri": "https://localhost:8080/"
    },
    "executionInfo": {
     "elapsed": 58158,
     "status": "ok",
     "timestamp": 1607527357631,
     "user": {
      "displayName": "Ruoxi Zhang",
      "photoUrl": "https://lh3.googleusercontent.com/a-/AOh14GgTFgHlZVaUQuSNcCHed_Tpkx4JgDcFCHQOVV3_=s64",
      "userId": "04538503838551540337"
     },
     "user_tz": 300
    },
    "id": "UdpiELxopDyc",
    "outputId": "91d13feb-0c01-4916-c96e-5bb40164cbd0"
   },
   "outputs": [
    {
     "data": {
      "text/plain": [
       "ncodpers                 False\n",
       "ind_empleado             False\n",
       "pais_residencia          False\n",
       "sexo                     False\n",
       "age                      False\n",
       "ind_nuevo                False\n",
       "antiguedad               False\n",
       "indrel                   False\n",
       "indrel_1mes              False\n",
       "tiprel_1mes              False\n",
       "indresi                  False\n",
       "indext                   False\n",
       "canal_entrada            False\n",
       "indfall                  False\n",
       "tipodom                  False\n",
       "cod_prov                 False\n",
       "ind_actividad_cliente    False\n",
       "renta                    False\n",
       "segmento                 False\n",
       "ind_ahor_fin_ult1        False\n",
       "ind_aval_fin_ult1        False\n",
       "ind_cco_fin_ult1         False\n",
       "ind_cder_fin_ult1        False\n",
       "ind_cno_fin_ult1         False\n",
       "ind_ctju_fin_ult1        False\n",
       "ind_ctma_fin_ult1        False\n",
       "ind_ctop_fin_ult1        False\n",
       "ind_ctpp_fin_ult1        False\n",
       "ind_deco_fin_ult1        False\n",
       "ind_deme_fin_ult1        False\n",
       "ind_dela_fin_ult1        False\n",
       "ind_ecue_fin_ult1        False\n",
       "ind_fond_fin_ult1        False\n",
       "ind_hip_fin_ult1         False\n",
       "ind_plan_fin_ult1        False\n",
       "ind_pres_fin_ult1        False\n",
       "ind_reca_fin_ult1        False\n",
       "ind_tjcr_fin_ult1        False\n",
       "ind_valo_fin_ult1        False\n",
       "ind_viv_fin_ult1         False\n",
       "ind_nomina_ult1          False\n",
       "ind_nom_pens_ult1        False\n",
       "ind_recibo_ult1          False\n",
       "dtype: bool"
      ]
     },
     "execution_count": 32,
     "metadata": {
      "tags": []
     },
     "output_type": "execute_result"
    }
   ],
   "source": [
    "df.isnull().any()"
   ]
  },
  {
   "cell_type": "markdown",
   "metadata": {
    "id": "r2KYZhlXpDyc"
   },
   "source": [
    "## preliminary analysis"
   ]
  },
  {
   "cell_type": "code",
   "execution_count": null,
   "metadata": {
    "colab": {
     "base_uri": "https://localhost:8080/",
     "height": 309
    },
    "executionInfo": {
     "elapsed": 56170,
     "status": "ok",
     "timestamp": 1607527357632,
     "user": {
      "displayName": "Ruoxi Zhang",
      "photoUrl": "https://lh3.googleusercontent.com/a-/AOh14GgTFgHlZVaUQuSNcCHed_Tpkx4JgDcFCHQOVV3_=s64",
      "userId": "04538503838551540337"
     },
     "user_tz": 300
    },
    "id": "8QtnH9plpDyc",
    "outputId": "1e4bde11-538e-46db-ce80-52a35ae5f55f"
   },
   "outputs": [
    {
     "data": {
      "text/html": [
       "<div>\n",
       "<style scoped>\n",
       "    .dataframe tbody tr th:only-of-type {\n",
       "        vertical-align: middle;\n",
       "    }\n",
       "\n",
       "    .dataframe tbody tr th {\n",
       "        vertical-align: top;\n",
       "    }\n",
       "\n",
       "    .dataframe thead th {\n",
       "        text-align: right;\n",
       "    }\n",
       "</style>\n",
       "<table border=\"1\" class=\"dataframe\">\n",
       "  <thead>\n",
       "    <tr style=\"text-align: right;\">\n",
       "      <th></th>\n",
       "      <th>ncodpers</th>\n",
       "      <th>ind_empleado</th>\n",
       "      <th>pais_residencia</th>\n",
       "      <th>sexo</th>\n",
       "      <th>age</th>\n",
       "      <th>ind_nuevo</th>\n",
       "      <th>antiguedad</th>\n",
       "      <th>indrel</th>\n",
       "      <th>indrel_1mes</th>\n",
       "      <th>tiprel_1mes</th>\n",
       "      <th>indresi</th>\n",
       "      <th>indext</th>\n",
       "      <th>canal_entrada</th>\n",
       "      <th>indfall</th>\n",
       "      <th>tipodom</th>\n",
       "      <th>cod_prov</th>\n",
       "      <th>ind_actividad_cliente</th>\n",
       "      <th>renta</th>\n",
       "      <th>segmento</th>\n",
       "      <th>ind_ahor_fin_ult1</th>\n",
       "      <th>ind_aval_fin_ult1</th>\n",
       "      <th>ind_cco_fin_ult1</th>\n",
       "      <th>ind_cder_fin_ult1</th>\n",
       "      <th>ind_cno_fin_ult1</th>\n",
       "      <th>ind_ctju_fin_ult1</th>\n",
       "      <th>ind_ctma_fin_ult1</th>\n",
       "      <th>ind_ctop_fin_ult1</th>\n",
       "      <th>ind_ctpp_fin_ult1</th>\n",
       "      <th>ind_deco_fin_ult1</th>\n",
       "      <th>ind_deme_fin_ult1</th>\n",
       "      <th>ind_dela_fin_ult1</th>\n",
       "      <th>ind_ecue_fin_ult1</th>\n",
       "      <th>ind_fond_fin_ult1</th>\n",
       "      <th>ind_hip_fin_ult1</th>\n",
       "      <th>ind_plan_fin_ult1</th>\n",
       "      <th>ind_pres_fin_ult1</th>\n",
       "      <th>ind_reca_fin_ult1</th>\n",
       "      <th>ind_tjcr_fin_ult1</th>\n",
       "      <th>ind_valo_fin_ult1</th>\n",
       "      <th>ind_viv_fin_ult1</th>\n",
       "      <th>ind_nomina_ult1</th>\n",
       "      <th>ind_nom_pens_ult1</th>\n",
       "      <th>ind_recibo_ult1</th>\n",
       "    </tr>\n",
       "  </thead>\n",
       "  <tbody>\n",
       "    <tr>\n",
       "      <th>0</th>\n",
       "      <td>1375586</td>\n",
       "      <td>N</td>\n",
       "      <td>ES</td>\n",
       "      <td>H</td>\n",
       "      <td>35.0</td>\n",
       "      <td>0</td>\n",
       "      <td>6</td>\n",
       "      <td>1.0</td>\n",
       "      <td>1</td>\n",
       "      <td>A</td>\n",
       "      <td>S</td>\n",
       "      <td>N</td>\n",
       "      <td>KHL</td>\n",
       "      <td>N</td>\n",
       "      <td>1.0</td>\n",
       "      <td>29.0</td>\n",
       "      <td>1.0</td>\n",
       "      <td>87218.10</td>\n",
       "      <td>02 - PARTICULARES</td>\n",
       "      <td>0</td>\n",
       "      <td>0</td>\n",
       "      <td>1</td>\n",
       "      <td>0</td>\n",
       "      <td>0</td>\n",
       "      <td>0</td>\n",
       "      <td>0</td>\n",
       "      <td>0</td>\n",
       "      <td>0</td>\n",
       "      <td>0</td>\n",
       "      <td>0</td>\n",
       "      <td>0</td>\n",
       "      <td>0</td>\n",
       "      <td>0</td>\n",
       "      <td>0</td>\n",
       "      <td>0</td>\n",
       "      <td>0</td>\n",
       "      <td>0</td>\n",
       "      <td>0</td>\n",
       "      <td>0</td>\n",
       "      <td>0</td>\n",
       "      <td>0.0</td>\n",
       "      <td>0.0</td>\n",
       "      <td>0</td>\n",
       "    </tr>\n",
       "    <tr>\n",
       "      <th>1</th>\n",
       "      <td>1050611</td>\n",
       "      <td>N</td>\n",
       "      <td>ES</td>\n",
       "      <td>V</td>\n",
       "      <td>23.0</td>\n",
       "      <td>0</td>\n",
       "      <td>35</td>\n",
       "      <td>1.0</td>\n",
       "      <td>1</td>\n",
       "      <td>I</td>\n",
       "      <td>S</td>\n",
       "      <td>S</td>\n",
       "      <td>KHE</td>\n",
       "      <td>N</td>\n",
       "      <td>1.0</td>\n",
       "      <td>13.0</td>\n",
       "      <td>0.0</td>\n",
       "      <td>35548.74</td>\n",
       "      <td>03 - UNIVERSITARIO</td>\n",
       "      <td>0</td>\n",
       "      <td>0</td>\n",
       "      <td>1</td>\n",
       "      <td>0</td>\n",
       "      <td>0</td>\n",
       "      <td>0</td>\n",
       "      <td>0</td>\n",
       "      <td>0</td>\n",
       "      <td>0</td>\n",
       "      <td>0</td>\n",
       "      <td>0</td>\n",
       "      <td>0</td>\n",
       "      <td>0</td>\n",
       "      <td>0</td>\n",
       "      <td>0</td>\n",
       "      <td>0</td>\n",
       "      <td>0</td>\n",
       "      <td>0</td>\n",
       "      <td>0</td>\n",
       "      <td>0</td>\n",
       "      <td>0</td>\n",
       "      <td>0.0</td>\n",
       "      <td>0.0</td>\n",
       "      <td>0</td>\n",
       "    </tr>\n",
       "    <tr>\n",
       "      <th>2</th>\n",
       "      <td>1050612</td>\n",
       "      <td>N</td>\n",
       "      <td>ES</td>\n",
       "      <td>V</td>\n",
       "      <td>23.0</td>\n",
       "      <td>0</td>\n",
       "      <td>35</td>\n",
       "      <td>1.0</td>\n",
       "      <td>1</td>\n",
       "      <td>I</td>\n",
       "      <td>S</td>\n",
       "      <td>N</td>\n",
       "      <td>KHE</td>\n",
       "      <td>N</td>\n",
       "      <td>1.0</td>\n",
       "      <td>13.0</td>\n",
       "      <td>0.0</td>\n",
       "      <td>122179.11</td>\n",
       "      <td>03 - UNIVERSITARIO</td>\n",
       "      <td>0</td>\n",
       "      <td>0</td>\n",
       "      <td>1</td>\n",
       "      <td>0</td>\n",
       "      <td>0</td>\n",
       "      <td>0</td>\n",
       "      <td>0</td>\n",
       "      <td>0</td>\n",
       "      <td>0</td>\n",
       "      <td>0</td>\n",
       "      <td>0</td>\n",
       "      <td>0</td>\n",
       "      <td>0</td>\n",
       "      <td>0</td>\n",
       "      <td>0</td>\n",
       "      <td>0</td>\n",
       "      <td>0</td>\n",
       "      <td>0</td>\n",
       "      <td>0</td>\n",
       "      <td>0</td>\n",
       "      <td>0</td>\n",
       "      <td>0.0</td>\n",
       "      <td>0.0</td>\n",
       "      <td>0</td>\n",
       "    </tr>\n",
       "    <tr>\n",
       "      <th>3</th>\n",
       "      <td>1050613</td>\n",
       "      <td>N</td>\n",
       "      <td>ES</td>\n",
       "      <td>H</td>\n",
       "      <td>22.0</td>\n",
       "      <td>0</td>\n",
       "      <td>35</td>\n",
       "      <td>1.0</td>\n",
       "      <td>1</td>\n",
       "      <td>I</td>\n",
       "      <td>S</td>\n",
       "      <td>N</td>\n",
       "      <td>KHD</td>\n",
       "      <td>N</td>\n",
       "      <td>1.0</td>\n",
       "      <td>50.0</td>\n",
       "      <td>0.0</td>\n",
       "      <td>119775.54</td>\n",
       "      <td>03 - UNIVERSITARIO</td>\n",
       "      <td>0</td>\n",
       "      <td>0</td>\n",
       "      <td>0</td>\n",
       "      <td>0</td>\n",
       "      <td>0</td>\n",
       "      <td>0</td>\n",
       "      <td>0</td>\n",
       "      <td>0</td>\n",
       "      <td>0</td>\n",
       "      <td>1</td>\n",
       "      <td>0</td>\n",
       "      <td>0</td>\n",
       "      <td>0</td>\n",
       "      <td>0</td>\n",
       "      <td>0</td>\n",
       "      <td>0</td>\n",
       "      <td>0</td>\n",
       "      <td>0</td>\n",
       "      <td>0</td>\n",
       "      <td>0</td>\n",
       "      <td>0</td>\n",
       "      <td>0.0</td>\n",
       "      <td>0.0</td>\n",
       "      <td>0</td>\n",
       "    </tr>\n",
       "    <tr>\n",
       "      <th>4</th>\n",
       "      <td>1050614</td>\n",
       "      <td>N</td>\n",
       "      <td>ES</td>\n",
       "      <td>V</td>\n",
       "      <td>23.0</td>\n",
       "      <td>0</td>\n",
       "      <td>35</td>\n",
       "      <td>1.0</td>\n",
       "      <td>1</td>\n",
       "      <td>A</td>\n",
       "      <td>S</td>\n",
       "      <td>N</td>\n",
       "      <td>KHE</td>\n",
       "      <td>N</td>\n",
       "      <td>1.0</td>\n",
       "      <td>50.0</td>\n",
       "      <td>1.0</td>\n",
       "      <td>100264.05</td>\n",
       "      <td>03 - UNIVERSITARIO</td>\n",
       "      <td>0</td>\n",
       "      <td>0</td>\n",
       "      <td>1</td>\n",
       "      <td>0</td>\n",
       "      <td>0</td>\n",
       "      <td>0</td>\n",
       "      <td>0</td>\n",
       "      <td>0</td>\n",
       "      <td>0</td>\n",
       "      <td>0</td>\n",
       "      <td>0</td>\n",
       "      <td>0</td>\n",
       "      <td>0</td>\n",
       "      <td>0</td>\n",
       "      <td>0</td>\n",
       "      <td>0</td>\n",
       "      <td>0</td>\n",
       "      <td>0</td>\n",
       "      <td>0</td>\n",
       "      <td>0</td>\n",
       "      <td>0</td>\n",
       "      <td>0.0</td>\n",
       "      <td>0.0</td>\n",
       "      <td>0</td>\n",
       "    </tr>\n",
       "  </tbody>\n",
       "</table>\n",
       "</div>"
      ],
      "text/plain": [
       "   ncodpers ind_empleado pais_residencia sexo   age ind_nuevo antiguedad  \\\n",
       "0   1375586            N              ES    H  35.0         0          6   \n",
       "1   1050611            N              ES    V  23.0         0         35   \n",
       "2   1050612            N              ES    V  23.0         0         35   \n",
       "3   1050613            N              ES    H  22.0         0         35   \n",
       "4   1050614            N              ES    V  23.0         0         35   \n",
       "\n",
       "   indrel indrel_1mes tiprel_1mes indresi indext canal_entrada indfall  \\\n",
       "0     1.0           1           A       S      N           KHL       N   \n",
       "1     1.0           1           I       S      S           KHE       N   \n",
       "2     1.0           1           I       S      N           KHE       N   \n",
       "3     1.0           1           I       S      N           KHD       N   \n",
       "4     1.0           1           A       S      N           KHE       N   \n",
       "\n",
       "   tipodom  cod_prov  ind_actividad_cliente      renta            segmento  \\\n",
       "0      1.0      29.0                    1.0   87218.10   02 - PARTICULARES   \n",
       "1      1.0      13.0                    0.0   35548.74  03 - UNIVERSITARIO   \n",
       "2      1.0      13.0                    0.0  122179.11  03 - UNIVERSITARIO   \n",
       "3      1.0      50.0                    0.0  119775.54  03 - UNIVERSITARIO   \n",
       "4      1.0      50.0                    1.0  100264.05  03 - UNIVERSITARIO   \n",
       "\n",
       "   ind_ahor_fin_ult1  ind_aval_fin_ult1  ind_cco_fin_ult1  ind_cder_fin_ult1  \\\n",
       "0                  0                  0                 1                  0   \n",
       "1                  0                  0                 1                  0   \n",
       "2                  0                  0                 1                  0   \n",
       "3                  0                  0                 0                  0   \n",
       "4                  0                  0                 1                  0   \n",
       "\n",
       "   ind_cno_fin_ult1  ind_ctju_fin_ult1  ind_ctma_fin_ult1  ind_ctop_fin_ult1  \\\n",
       "0                 0                  0                  0                  0   \n",
       "1                 0                  0                  0                  0   \n",
       "2                 0                  0                  0                  0   \n",
       "3                 0                  0                  0                  0   \n",
       "4                 0                  0                  0                  0   \n",
       "\n",
       "   ind_ctpp_fin_ult1  ind_deco_fin_ult1  ind_deme_fin_ult1  ind_dela_fin_ult1  \\\n",
       "0                  0                  0                  0                  0   \n",
       "1                  0                  0                  0                  0   \n",
       "2                  0                  0                  0                  0   \n",
       "3                  0                  1                  0                  0   \n",
       "4                  0                  0                  0                  0   \n",
       "\n",
       "   ind_ecue_fin_ult1  ind_fond_fin_ult1  ind_hip_fin_ult1  ind_plan_fin_ult1  \\\n",
       "0                  0                  0                 0                  0   \n",
       "1                  0                  0                 0                  0   \n",
       "2                  0                  0                 0                  0   \n",
       "3                  0                  0                 0                  0   \n",
       "4                  0                  0                 0                  0   \n",
       "\n",
       "   ind_pres_fin_ult1  ind_reca_fin_ult1  ind_tjcr_fin_ult1  ind_valo_fin_ult1  \\\n",
       "0                  0                  0                  0                  0   \n",
       "1                  0                  0                  0                  0   \n",
       "2                  0                  0                  0                  0   \n",
       "3                  0                  0                  0                  0   \n",
       "4                  0                  0                  0                  0   \n",
       "\n",
       "   ind_viv_fin_ult1  ind_nomina_ult1  ind_nom_pens_ult1  ind_recibo_ult1  \n",
       "0                 0              0.0                0.0                0  \n",
       "1                 0              0.0                0.0                0  \n",
       "2                 0              0.0                0.0                0  \n",
       "3                 0              0.0                0.0                0  \n",
       "4                 0              0.0                0.0                0  "
      ]
     },
     "execution_count": 33,
     "metadata": {
      "tags": []
     },
     "output_type": "execute_result"
    }
   ],
   "source": [
    "df.head().iloc[:,:]"
   ]
  },
  {
   "cell_type": "code",
   "execution_count": null,
   "metadata": {
    "colab": {
     "base_uri": "https://localhost:8080/",
     "height": 429
    },
    "executionInfo": {
     "elapsed": 68201,
     "status": "error",
     "timestamp": 1607527369917,
     "user": {
      "displayName": "Ruoxi Zhang",
      "photoUrl": "https://lh3.googleusercontent.com/a-/AOh14GgTFgHlZVaUQuSNcCHed_Tpkx4JgDcFCHQOVV3_=s64",
      "userId": "04538503838551540337"
     },
     "user_tz": 300
    },
    "id": "e6X7EVj-pDyc",
    "outputId": "d81252ca-3345-481c-8498-696d937632ee"
   },
   "outputs": [
    {
     "name": "stderr",
     "output_type": "stream",
     "text": [
      "/usr/local/lib/python3.6/dist-packages/seaborn/_decorators.py:43: FutureWarning: Pass the following variables as keyword args: x, y. From version 0.12, the only valid positional argument will be `data`, and passing other arguments without an explicit keyword will result in an error or misinterpretation.\n",
      "  FutureWarning\n"
     ]
    },
    {
     "ename": "ValueError",
     "evalue": "ignored",
     "output_type": "error",
     "traceback": [
      "\u001b[0;31m---------------------------------------------------------------------------\u001b[0m",
      "\u001b[0;31mValueError\u001b[0m                                Traceback (most recent call last)",
      "\u001b[0;32m<ipython-input-34-c3872262917a>\u001b[0m in \u001b[0;36m<module>\u001b[0;34m()\u001b[0m\n\u001b[1;32m      9\u001b[0m \u001b[0;34m\u001b[0m\u001b[0m\n\u001b[1;32m     10\u001b[0m \u001b[0;31m#explore the targets (products for recommendation)\u001b[0m\u001b[0;34m\u001b[0m\u001b[0;34m\u001b[0m\u001b[0;34m\u001b[0m\u001b[0m\n\u001b[0;32m---> 11\u001b[0;31m \u001b[0msns\u001b[0m\u001b[0;34m.\u001b[0m\u001b[0mbarplot\u001b[0m\u001b[0;34m(\u001b[0m\u001b[0my_target\u001b[0m\u001b[0;34m.\u001b[0m\u001b[0mcolumns\u001b[0m\u001b[0;34m,\u001b[0m \u001b[0my_target\u001b[0m\u001b[0;34m.\u001b[0m\u001b[0msum\u001b[0m\u001b[0;34m(\u001b[0m\u001b[0;34m)\u001b[0m\u001b[0;34m,\u001b[0m \u001b[0malpha\u001b[0m\u001b[0;34m=\u001b[0m\u001b[0;36m0.8\u001b[0m\u001b[0;34m)\u001b[0m\u001b[0;34m\u001b[0m\u001b[0;34m\u001b[0m\u001b[0m\n\u001b[0m\u001b[1;32m     12\u001b[0m \u001b[0mplt\u001b[0m\u001b[0;34m.\u001b[0m\u001b[0mxlabel\u001b[0m\u001b[0;34m(\u001b[0m\u001b[0;34m'Bank Product'\u001b[0m\u001b[0;34m)\u001b[0m\u001b[0;34m\u001b[0m\u001b[0;34m\u001b[0m\u001b[0m\n\u001b[1;32m     13\u001b[0m \u001b[0mplt\u001b[0m\u001b[0;34m.\u001b[0m\u001b[0mylabel\u001b[0m\u001b[0;34m(\u001b[0m\u001b[0;34m'Number of Occurrences'\u001b[0m\u001b[0;34m,\u001b[0m \u001b[0mfontsize\u001b[0m\u001b[0;34m=\u001b[0m\u001b[0;36m12\u001b[0m\u001b[0;34m)\u001b[0m\u001b[0;34m\u001b[0m\u001b[0;34m\u001b[0m\u001b[0m\n",
      "\u001b[0;32m/usr/local/lib/python3.6/dist-packages/seaborn/_decorators.py\u001b[0m in \u001b[0;36minner_f\u001b[0;34m(*args, **kwargs)\u001b[0m\n\u001b[1;32m     44\u001b[0m             )\n\u001b[1;32m     45\u001b[0m         \u001b[0mkwargs\u001b[0m\u001b[0;34m.\u001b[0m\u001b[0mupdate\u001b[0m\u001b[0;34m(\u001b[0m\u001b[0;34m{\u001b[0m\u001b[0mk\u001b[0m\u001b[0;34m:\u001b[0m \u001b[0marg\u001b[0m \u001b[0;32mfor\u001b[0m \u001b[0mk\u001b[0m\u001b[0;34m,\u001b[0m \u001b[0marg\u001b[0m \u001b[0;32min\u001b[0m \u001b[0mzip\u001b[0m\u001b[0;34m(\u001b[0m\u001b[0msig\u001b[0m\u001b[0;34m.\u001b[0m\u001b[0mparameters\u001b[0m\u001b[0;34m,\u001b[0m \u001b[0margs\u001b[0m\u001b[0;34m)\u001b[0m\u001b[0;34m}\u001b[0m\u001b[0;34m)\u001b[0m\u001b[0;34m\u001b[0m\u001b[0;34m\u001b[0m\u001b[0m\n\u001b[0;32m---> 46\u001b[0;31m         \u001b[0;32mreturn\u001b[0m \u001b[0mf\u001b[0m\u001b[0;34m(\u001b[0m\u001b[0;34m**\u001b[0m\u001b[0mkwargs\u001b[0m\u001b[0;34m)\u001b[0m\u001b[0;34m\u001b[0m\u001b[0;34m\u001b[0m\u001b[0m\n\u001b[0m\u001b[1;32m     47\u001b[0m     \u001b[0;32mreturn\u001b[0m \u001b[0minner_f\u001b[0m\u001b[0;34m\u001b[0m\u001b[0;34m\u001b[0m\u001b[0m\n\u001b[1;32m     48\u001b[0m \u001b[0;34m\u001b[0m\u001b[0m\n",
      "\u001b[0;32m/usr/local/lib/python3.6/dist-packages/seaborn/categorical.py\u001b[0m in \u001b[0;36mbarplot\u001b[0;34m(x, y, hue, data, order, hue_order, estimator, ci, n_boot, units, seed, orient, color, palette, saturation, errcolor, errwidth, capsize, dodge, ax, **kwargs)\u001b[0m\n\u001b[1;32m   3170\u001b[0m                           \u001b[0mestimator\u001b[0m\u001b[0;34m,\u001b[0m \u001b[0mci\u001b[0m\u001b[0;34m,\u001b[0m \u001b[0mn_boot\u001b[0m\u001b[0;34m,\u001b[0m \u001b[0munits\u001b[0m\u001b[0;34m,\u001b[0m \u001b[0mseed\u001b[0m\u001b[0;34m,\u001b[0m\u001b[0;34m\u001b[0m\u001b[0;34m\u001b[0m\u001b[0m\n\u001b[1;32m   3171\u001b[0m                           \u001b[0morient\u001b[0m\u001b[0;34m,\u001b[0m \u001b[0mcolor\u001b[0m\u001b[0;34m,\u001b[0m \u001b[0mpalette\u001b[0m\u001b[0;34m,\u001b[0m \u001b[0msaturation\u001b[0m\u001b[0;34m,\u001b[0m\u001b[0;34m\u001b[0m\u001b[0;34m\u001b[0m\u001b[0m\n\u001b[0;32m-> 3172\u001b[0;31m                           errcolor, errwidth, capsize, dodge)\n\u001b[0m\u001b[1;32m   3173\u001b[0m \u001b[0;34m\u001b[0m\u001b[0m\n\u001b[1;32m   3174\u001b[0m     \u001b[0;32mif\u001b[0m \u001b[0max\u001b[0m \u001b[0;32mis\u001b[0m \u001b[0;32mNone\u001b[0m\u001b[0;34m:\u001b[0m\u001b[0;34m\u001b[0m\u001b[0;34m\u001b[0m\u001b[0m\n",
      "\u001b[0;32m/usr/local/lib/python3.6/dist-packages/seaborn/categorical.py\u001b[0m in \u001b[0;36m__init__\u001b[0;34m(self, x, y, hue, data, order, hue_order, estimator, ci, n_boot, units, seed, orient, color, palette, saturation, errcolor, errwidth, capsize, dodge)\u001b[0m\n\u001b[1;32m   1583\u001b[0m         \u001b[0;34m\"\"\"Initialize the plotter.\"\"\"\u001b[0m\u001b[0;34m\u001b[0m\u001b[0;34m\u001b[0m\u001b[0m\n\u001b[1;32m   1584\u001b[0m         self.establish_variables(x, y, hue, data, orient,\n\u001b[0;32m-> 1585\u001b[0;31m                                  order, hue_order, units)\n\u001b[0m\u001b[1;32m   1586\u001b[0m         \u001b[0mself\u001b[0m\u001b[0;34m.\u001b[0m\u001b[0mestablish_colors\u001b[0m\u001b[0;34m(\u001b[0m\u001b[0mcolor\u001b[0m\u001b[0;34m,\u001b[0m \u001b[0mpalette\u001b[0m\u001b[0;34m,\u001b[0m \u001b[0msaturation\u001b[0m\u001b[0;34m)\u001b[0m\u001b[0;34m\u001b[0m\u001b[0;34m\u001b[0m\u001b[0m\n\u001b[1;32m   1587\u001b[0m         \u001b[0mself\u001b[0m\u001b[0;34m.\u001b[0m\u001b[0mestimate_statistic\u001b[0m\u001b[0;34m(\u001b[0m\u001b[0mestimator\u001b[0m\u001b[0;34m,\u001b[0m \u001b[0mci\u001b[0m\u001b[0;34m,\u001b[0m \u001b[0mn_boot\u001b[0m\u001b[0;34m,\u001b[0m \u001b[0mseed\u001b[0m\u001b[0;34m)\u001b[0m\u001b[0;34m\u001b[0m\u001b[0;34m\u001b[0m\u001b[0m\n",
      "\u001b[0;32m/usr/local/lib/python3.6/dist-packages/seaborn/categorical.py\u001b[0m in \u001b[0;36mestablish_variables\u001b[0;34m(self, x, y, hue, data, orient, order, hue_order, units)\u001b[0m\n\u001b[1;32m    205\u001b[0m                 \u001b[0;31m# Group the numeric data\u001b[0m\u001b[0;34m\u001b[0m\u001b[0;34m\u001b[0m\u001b[0;34m\u001b[0m\u001b[0m\n\u001b[1;32m    206\u001b[0m                 plot_data, value_label = self._group_longform(vals, groups,\n\u001b[0;32m--> 207\u001b[0;31m                                                               group_names)\n\u001b[0m\u001b[1;32m    208\u001b[0m \u001b[0;34m\u001b[0m\u001b[0m\n\u001b[1;32m    209\u001b[0m                 \u001b[0;31m# Now handle the hue levels for nested ordering\u001b[0m\u001b[0;34m\u001b[0m\u001b[0;34m\u001b[0m\u001b[0;34m\u001b[0m\u001b[0m\n",
      "\u001b[0;32m/usr/local/lib/python3.6/dist-packages/seaborn/categorical.py\u001b[0m in \u001b[0;36m_group_longform\u001b[0;34m(self, vals, grouper, order)\u001b[0m\n\u001b[1;32m    251\u001b[0m \u001b[0;34m\u001b[0m\u001b[0m\n\u001b[1;32m    252\u001b[0m         \u001b[0;31m# Group the val data\u001b[0m\u001b[0;34m\u001b[0m\u001b[0;34m\u001b[0m\u001b[0;34m\u001b[0m\u001b[0m\n\u001b[0;32m--> 253\u001b[0;31m         \u001b[0mgrouped_vals\u001b[0m \u001b[0;34m=\u001b[0m \u001b[0mvals\u001b[0m\u001b[0;34m.\u001b[0m\u001b[0mgroupby\u001b[0m\u001b[0;34m(\u001b[0m\u001b[0mgrouper\u001b[0m\u001b[0;34m)\u001b[0m\u001b[0;34m\u001b[0m\u001b[0;34m\u001b[0m\u001b[0m\n\u001b[0m\u001b[1;32m    254\u001b[0m         \u001b[0mout_data\u001b[0m \u001b[0;34m=\u001b[0m \u001b[0;34m[\u001b[0m\u001b[0;34m]\u001b[0m\u001b[0;34m\u001b[0m\u001b[0;34m\u001b[0m\u001b[0m\n\u001b[1;32m    255\u001b[0m         \u001b[0;32mfor\u001b[0m \u001b[0mg\u001b[0m \u001b[0;32min\u001b[0m \u001b[0morder\u001b[0m\u001b[0;34m:\u001b[0m\u001b[0;34m\u001b[0m\u001b[0;34m\u001b[0m\u001b[0m\n",
      "\u001b[0;32m/usr/local/lib/python3.6/dist-packages/pandas/core/series.py\u001b[0m in \u001b[0;36mgroupby\u001b[0;34m(self, by, axis, level, as_index, sort, group_keys, squeeze, observed, dropna)\u001b[0m\n\u001b[1;32m   1743\u001b[0m             \u001b[0msqueeze\u001b[0m\u001b[0;34m=\u001b[0m\u001b[0msqueeze\u001b[0m\u001b[0;34m,\u001b[0m\u001b[0;34m\u001b[0m\u001b[0;34m\u001b[0m\u001b[0m\n\u001b[1;32m   1744\u001b[0m             \u001b[0mobserved\u001b[0m\u001b[0;34m=\u001b[0m\u001b[0mobserved\u001b[0m\u001b[0;34m,\u001b[0m\u001b[0;34m\u001b[0m\u001b[0;34m\u001b[0m\u001b[0m\n\u001b[0;32m-> 1745\u001b[0;31m             \u001b[0mdropna\u001b[0m\u001b[0;34m=\u001b[0m\u001b[0mdropna\u001b[0m\u001b[0;34m,\u001b[0m\u001b[0;34m\u001b[0m\u001b[0;34m\u001b[0m\u001b[0m\n\u001b[0m\u001b[1;32m   1746\u001b[0m         )\n\u001b[1;32m   1747\u001b[0m \u001b[0;34m\u001b[0m\u001b[0m\n",
      "\u001b[0;32m/usr/local/lib/python3.6/dist-packages/pandas/core/groupby/groupby.py\u001b[0m in \u001b[0;36m__init__\u001b[0;34m(self, obj, keys, axis, level, grouper, exclusions, selection, as_index, sort, group_keys, squeeze, observed, mutated, dropna)\u001b[0m\n\u001b[1;32m    531\u001b[0m                 \u001b[0mobserved\u001b[0m\u001b[0;34m=\u001b[0m\u001b[0mobserved\u001b[0m\u001b[0;34m,\u001b[0m\u001b[0;34m\u001b[0m\u001b[0;34m\u001b[0m\u001b[0m\n\u001b[1;32m    532\u001b[0m                 \u001b[0mmutated\u001b[0m\u001b[0;34m=\u001b[0m\u001b[0mself\u001b[0m\u001b[0;34m.\u001b[0m\u001b[0mmutated\u001b[0m\u001b[0;34m,\u001b[0m\u001b[0;34m\u001b[0m\u001b[0;34m\u001b[0m\u001b[0m\n\u001b[0;32m--> 533\u001b[0;31m                 \u001b[0mdropna\u001b[0m\u001b[0;34m=\u001b[0m\u001b[0mself\u001b[0m\u001b[0;34m.\u001b[0m\u001b[0mdropna\u001b[0m\u001b[0;34m,\u001b[0m\u001b[0;34m\u001b[0m\u001b[0;34m\u001b[0m\u001b[0m\n\u001b[0m\u001b[1;32m    534\u001b[0m             )\n\u001b[1;32m    535\u001b[0m \u001b[0;34m\u001b[0m\u001b[0m\n",
      "\u001b[0;32m/usr/local/lib/python3.6/dist-packages/pandas/core/groupby/grouper.py\u001b[0m in \u001b[0;36mget_grouper\u001b[0;34m(obj, key, axis, level, sort, observed, mutated, validate, dropna)\u001b[0m\n\u001b[1;32m    812\u001b[0m                 \u001b[0mdropna\u001b[0m\u001b[0;34m=\u001b[0m\u001b[0mdropna\u001b[0m\u001b[0;34m,\u001b[0m\u001b[0;34m\u001b[0m\u001b[0;34m\u001b[0m\u001b[0m\n\u001b[1;32m    813\u001b[0m             )\n\u001b[0;32m--> 814\u001b[0;31m             \u001b[0;32mif\u001b[0m \u001b[0;32mnot\u001b[0m \u001b[0misinstance\u001b[0m\u001b[0;34m(\u001b[0m\u001b[0mgpr\u001b[0m\u001b[0;34m,\u001b[0m \u001b[0mGrouping\u001b[0m\u001b[0;34m)\u001b[0m\u001b[0;34m\u001b[0m\u001b[0;34m\u001b[0m\u001b[0m\n\u001b[0m\u001b[1;32m    815\u001b[0m             \u001b[0;32melse\u001b[0m \u001b[0mgpr\u001b[0m\u001b[0;34m\u001b[0m\u001b[0;34m\u001b[0m\u001b[0m\n\u001b[1;32m    816\u001b[0m         )\n",
      "\u001b[0;32m/usr/local/lib/python3.6/dist-packages/pandas/core/groupby/grouper.py\u001b[0m in \u001b[0;36m__init__\u001b[0;34m(self, index, grouper, obj, name, level, sort, observed, in_axis, dropna)\u001b[0m\n\u001b[1;32m    425\u001b[0m         \u001b[0mself\u001b[0m\u001b[0;34m.\u001b[0m\u001b[0mname\u001b[0m \u001b[0;34m=\u001b[0m \u001b[0mname\u001b[0m\u001b[0;34m\u001b[0m\u001b[0;34m\u001b[0m\u001b[0m\n\u001b[1;32m    426\u001b[0m         \u001b[0mself\u001b[0m\u001b[0;34m.\u001b[0m\u001b[0mlevel\u001b[0m \u001b[0;34m=\u001b[0m \u001b[0mlevel\u001b[0m\u001b[0;34m\u001b[0m\u001b[0;34m\u001b[0m\u001b[0m\n\u001b[0;32m--> 427\u001b[0;31m         \u001b[0mself\u001b[0m\u001b[0;34m.\u001b[0m\u001b[0mgrouper\u001b[0m \u001b[0;34m=\u001b[0m \u001b[0m_convert_grouper\u001b[0m\u001b[0;34m(\u001b[0m\u001b[0mindex\u001b[0m\u001b[0;34m,\u001b[0m \u001b[0mgrouper\u001b[0m\u001b[0;34m)\u001b[0m\u001b[0;34m\u001b[0m\u001b[0;34m\u001b[0m\u001b[0m\n\u001b[0m\u001b[1;32m    428\u001b[0m         \u001b[0mself\u001b[0m\u001b[0;34m.\u001b[0m\u001b[0mall_grouper\u001b[0m \u001b[0;34m=\u001b[0m \u001b[0;32mNone\u001b[0m\u001b[0;34m\u001b[0m\u001b[0;34m\u001b[0m\u001b[0m\n\u001b[1;32m    429\u001b[0m         \u001b[0mself\u001b[0m\u001b[0;34m.\u001b[0m\u001b[0mindex\u001b[0m \u001b[0;34m=\u001b[0m \u001b[0mindex\u001b[0m\u001b[0;34m\u001b[0m\u001b[0;34m\u001b[0m\u001b[0m\n",
      "\u001b[0;32m/usr/local/lib/python3.6/dist-packages/pandas/core/groupby/grouper.py\u001b[0m in \u001b[0;36m_convert_grouper\u001b[0;34m(axis, grouper)\u001b[0m\n\u001b[1;32m    842\u001b[0m     \u001b[0;32melif\u001b[0m \u001b[0misinstance\u001b[0m\u001b[0;34m(\u001b[0m\u001b[0mgrouper\u001b[0m\u001b[0;34m,\u001b[0m \u001b[0;34m(\u001b[0m\u001b[0mlist\u001b[0m\u001b[0;34m,\u001b[0m \u001b[0mSeries\u001b[0m\u001b[0;34m,\u001b[0m \u001b[0mIndex\u001b[0m\u001b[0;34m,\u001b[0m \u001b[0mnp\u001b[0m\u001b[0;34m.\u001b[0m\u001b[0mndarray\u001b[0m\u001b[0;34m)\u001b[0m\u001b[0;34m)\u001b[0m\u001b[0;34m:\u001b[0m\u001b[0;34m\u001b[0m\u001b[0;34m\u001b[0m\u001b[0m\n\u001b[1;32m    843\u001b[0m         \u001b[0;32mif\u001b[0m \u001b[0mlen\u001b[0m\u001b[0;34m(\u001b[0m\u001b[0mgrouper\u001b[0m\u001b[0;34m)\u001b[0m \u001b[0;34m!=\u001b[0m \u001b[0mlen\u001b[0m\u001b[0;34m(\u001b[0m\u001b[0maxis\u001b[0m\u001b[0;34m)\u001b[0m\u001b[0;34m:\u001b[0m\u001b[0;34m\u001b[0m\u001b[0;34m\u001b[0m\u001b[0m\n\u001b[0;32m--> 844\u001b[0;31m             \u001b[0;32mraise\u001b[0m \u001b[0mValueError\u001b[0m\u001b[0;34m(\u001b[0m\u001b[0;34m\"Grouper and axis must be same length\"\u001b[0m\u001b[0;34m)\u001b[0m\u001b[0;34m\u001b[0m\u001b[0;34m\u001b[0m\u001b[0m\n\u001b[0m\u001b[1;32m    845\u001b[0m         \u001b[0;32mreturn\u001b[0m \u001b[0mgrouper\u001b[0m\u001b[0;34m\u001b[0m\u001b[0;34m\u001b[0m\u001b[0m\n\u001b[1;32m    846\u001b[0m     \u001b[0;32melse\u001b[0m\u001b[0;34m:\u001b[0m\u001b[0;34m\u001b[0m\u001b[0;34m\u001b[0m\u001b[0m\n",
      "\u001b[0;31mValueError\u001b[0m: Grouper and axis must be same length"
     ]
    }
   ],
   "source": [
    "last_feature_index = 18\n",
    "X = df.iloc[:,:last_feature_index+1]\n",
    "y_target = df.iloc[:,last_feature_index+1:]\n",
    "\n",
    "#convert y to categorical data\n",
    "for i in y_target.columns:\n",
    "    y_target[i] = y_target[i].astype('category')  \n",
    "y = np.array(y_target).astype(int)\n",
    "\n",
    "#explore the targets (products for recommendation)\n",
    "sns.barplot(y_target.columns, y_target.sum(), alpha=0.8)\n",
    "plt.xlabel('Bank Product')\n",
    "plt.ylabel('Number of Occurrences', fontsize=12)\n",
    "plt.xticks(rotation='vertical')\n",
    "plt.show()"
   ]
  },
  {
   "cell_type": "code",
   "execution_count": null,
   "metadata": {
    "id": "SvRHMLXRpDyd"
   },
   "outputs": [],
   "source": [
    "print('\\nnumeric features:')\n",
    "for i in X.columns:\n",
    "    if X[i].dtype == int64 or X[i].dtype == float64:\n",
    "        print(i, X[i].unique())"
   ]
  },
  {
   "cell_type": "code",
   "execution_count": null,
   "metadata": {
    "id": "r8S5ZX4WpDyd"
   },
   "outputs": [],
   "source": [
    "#convert categorical features to numeric bc knn accepts only numeric input\n",
    "print('categorical features:')\n",
    "for i in X.columns: #check the categories\n",
    "    if X[i].dtype != int64 and X[i].dtype != float64:\n",
    "        print(i, X[i].unique())"
   ]
  },
  {
   "cell_type": "code",
   "execution_count": null,
   "metadata": {
    "id": "FncBPf5fpDyd"
   },
   "outputs": [],
   "source": [
    "for i in ['ind_nuevo', 'antiguedad', 'indrel_1mes']: #convert the categories represented by numbers to integers type\n",
    "    X[i] = X[i].astype(int)"
   ]
  },
  {
   "cell_type": "code",
   "execution_count": null,
   "metadata": {
    "id": "uDW9tmkipDye"
   },
   "outputs": [],
   "source": [
    "#convert the categories to numbers\n",
    "for i in X.columns: \n",
    "    if X[i].dtype != int64 and X[i].dtype != float64:\n",
    "        print(i, X[i].unique())\n",
    "\n",
    "from sklearn.preprocessing import LabelEncoder\n",
    "num = LabelEncoder()\n",
    "for i in ['ind_empleado', 'pais_residencia', 'sexo', 'tiprel_1mes', 'indresi', 'indext', 'canal_entrada', 'indfall', 'segmento']:\n",
    "    X[i] = num.fit_transform(X[i])"
   ]
  },
  {
   "cell_type": "code",
   "execution_count": null,
   "metadata": {
    "id": "4BnDHaewpDye"
   },
   "outputs": [],
   "source": [
    "#Descriptive statistics\n",
    "X.describe()\n",
    "X = X.drop([\"tipodom\"],axis=1) #drop tipodom bc its std=0, meaning no variation at all"
   ]
  },
  {
   "cell_type": "code",
   "execution_count": null,
   "metadata": {
    "id": "kUu79A4kpDye"
   },
   "outputs": [],
   "source": [
    "X.describe()"
   ]
  },
  {
   "cell_type": "code",
   "execution_count": null,
   "metadata": {
    "id": "RWtXtRHwpDye"
   },
   "outputs": [],
   "source": [
    "sns.heatmap(X.corr())"
   ]
  },
  {
   "cell_type": "code",
   "execution_count": null,
   "metadata": {
    "id": "Uqi_zWxhpDyf"
   },
   "outputs": [],
   "source": [
    "#tiprel_1mes and ind_actividad_cliente are highly negatively correlated, so drop ind_actividad_cliente (less informative)\n",
    "X = X.drop(['ind_actividad_cliente'],axis=1)\n",
    "#ncodpers and canal_entrada are highly positively correlated, so drop ncodpers (less informative)\n",
    "X = X.drop(['ncodpers'],axis=1)\n",
    "#age and [segmento, canal_entrada] are highly positively correlated, so drop segmento and canal_entrada\n",
    "X = X.drop(['segmento'],axis=1)\n",
    "X = X.drop(['canal_entrada'],axis=1)\n",
    "#cod_prov and indresi are highly positively correlated, so drop indresi (less informative)\n",
    "X = X.drop(['indresi'],axis=1)\n"
   ]
  },
  {
   "cell_type": "code",
   "execution_count": null,
   "metadata": {
    "id": "1EzACzvapDyf"
   },
   "outputs": [],
   "source": [
    "X.info()"
   ]
  },
  {
   "cell_type": "markdown",
   "metadata": {
    "id": "fTwarERfpDyf"
   },
   "source": [
    "## knn"
   ]
  },
  {
   "cell_type": "code",
   "execution_count": null,
   "metadata": {
    "id": "kPK-A-N6pDyf"
   },
   "outputs": [],
   "source": [
    "from skmultilearn.adapt import MLkNN\n",
    "from sklearn.model_selection import RandomizedSearchCV\n",
    "k_range = np.arange(2,20)\n",
    "param_grid = {'k':k_range}\n",
    "knn = MLkNN()\n",
    "knn = RandomizedSearchCV(knn, param_grid) #Reducing computational expense using RandomizedSearchCV\n",
    "knn.fit(X[:20000],y[:20000])\n",
    "\n",
    "import matplotlib.pyplot as plt\n",
    "para_list = []\n",
    "for j in knn.cv_results_['params']:\n",
    "    for i in j.values():\n",
    "       para_list.append(i)\n",
    "    \n",
    "print('the best #neighbors to choose and its cross validation score:', knn.best_params_, knn.best_score_)\n",
    "plt.scatter(para_list, knn.cv_results_['mean_test_score'])\n",
    "plt.xlabel('k: #neighbors')\n",
    "plt.ylabel('mean cross validation accuracy')"
   ]
  },
  {
   "cell_type": "code",
   "execution_count": null,
   "metadata": {
    "id": "YmSQu9QWpDyg"
   },
   "outputs": [],
   "source": [
    "from sklearn.metrics import classification_report\n",
    "print(classification_report(y[:100000], knn.predict(X[:100000])))\n",
    "#y contains 24 units (24 products for recommendation)"
   ]
  },
  {
   "cell_type": "code",
   "execution_count": null,
   "metadata": {
    "id": "Tw1SuhLOpDyg"
   },
   "outputs": [],
   "source": [
    "from sklearn.model_selection import train_test_split\n",
    "X_train, X_test, y_train, y_test = train_test_split(X, y, test_size=0.95, random_state=22)"
   ]
  },
  {
   "cell_type": "code",
   "execution_count": null,
   "metadata": {
    "id": "RYsSXFIIFKHC"
   },
   "outputs": [],
   "source": [
    "from skmultilearn.adapt import MLkNN\n",
    "from sklearn.model_selection import RandomizedSearchCV\n",
    "\n",
    "k_range = np.arange(2,20)\n",
    "param_grid = {'k':k_range}\n",
    "knn = MLkNN()\n",
    "knn = RandomizedSearchCV(knn, param_grid) #Reducing computational expense using RandomizedSearchCV\n",
    "knn.fit(X_train,y_train)\n",
    "\n",
    "import matplotlib.pyplot as plt\n",
    "para_list = []\n",
    "for j in knn.cv_results_['params']:\n",
    "    for i in j.values():\n",
    "        para_list.append(i)\n",
    "    \n",
    "print('the best #neighbors to choose and its cross validation score:', knn.best_params_, knn.best_score_)\n",
    "plt.scatter(para_list, knn.cv_results_['mean_test_score'])\n",
    "plt.xlabel('k: #neighbors')\n",
    "plt.ylabel('mean cross validation accuracy')"
   ]
  }
 ],
 "metadata": {
  "colab": {
   "collapsed_sections": [],
   "name": "Project_knn .ipynb",
   "provenance": []
  },
  "kernelspec": {
   "display_name": "Python 3",
   "language": "python",
   "name": "python3"
  },
  "language_info": {
   "codemirror_mode": {
    "name": "ipython",
    "version": 3
   },
   "file_extension": ".py",
   "mimetype": "text/x-python",
   "name": "python",
   "nbconvert_exporter": "python",
   "pygments_lexer": "ipython3",
   "version": "3.7.3"
  }
 },
 "nbformat": 4,
 "nbformat_minor": 1
}
